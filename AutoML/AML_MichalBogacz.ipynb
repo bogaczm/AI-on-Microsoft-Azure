{
  "cells": [
    {
      "cell_type": "markdown",
      "source": [
        "# Classic Californian Housing Dataset\r\n",
        "\r\n",
        "## Purpouse\r\n",
        "The Housing dataset containg information about houses sold in last 50 yeras, the main goal of this exercise is to create the ML \r\n",
        "model that could predict the price of the house, based on some features.\r\n",
        "Azure AML allows user to choose huge amount of different parameters, but most interesting option is the ability to let the model choose the best regressors automaticaly. \r\n",
        "In this exercise I will try to perform different types of ML to see if my models are better or worst.\r\n",
        "\r\n",
        "Two main approaches where taken, the click-click approach, where the experiment was created in AML UI, and second was created via the jupiterNotebook.\r\n",
        "\r\n",
        "## Dataset\r\n",
        "Dataset will be added to github repository, it is pre-prepaerd for machine learing. The aim of this exercise is not to perform the data analisys and clearing, so the used dataset will be pre-cleared.\r\n",
        "\r\n",
        "Data set contains 25 columns, 21596 records each:\r\n",
        "\r\n",
        "### TARGET COLUMN\r\n",
        "- price - $\r\n",
        "\r\n",
        "### FEATURE COLUMNS\r\n",
        "- bedrooms - number of bedrooms (can contain 0.5 bedroom, when connected to other room)\r\n",
        "- bathrooms - number of bathrooms (can contain 0.5 bathroom, when without shower or tub)\r\n",
        "- sqft_living\r\n",
        "- sqft_lot\r\n",
        "- floors - number of floors (can contain 0.5)\r\n",
        "- waterfront - the scale 0-10 (it represents the quality)\r\n",
        "- view - the scale 0-10 (it represents the quality)\r\n",
        "- condition - the scale 0-10 (it represents the quality)\r\n",
        "- grade -subjective, the scale 0-10 (it represents the quality)\r\n",
        "- sqft_above\r\n",
        "- sqft_basement\r\n",
        "- yr_built\r\n",
        "- yr_renovated\r\n",
        "- lat - coordinates of lattitude\r\n",
        "- long - coordinates of longitude \r\n",
        "- sqft_living15 - living space of 15 closest flats/houses\r\n",
        "- sqft_lot15 - lot area of 15 closest flats/houses\r\n",
        "- month - month of selling\r\n",
        "- year - year of selling \r\n",
        "\r\n",
        "### ADVANCED FEATURES\r\n",
        "some additional features created to enlarge of simplify relations\r\n",
        "- bedrooms_squared - linear relation between price is better in case of squared(bathrooms) than in just bathrooms\r\n",
        "- bed_bath_rooms - the connected value of bedrooms*bathrooms has strong corelation with price\r\n",
        "- log_sqft_living - the data correction to achieve the strait distribution not left-weighted\r\n",
        "- sqft_rooms - the sum of all spaces insige house\r\n",
        "- condition_advanced - condition*(yr_built+yr_renovated) based on the year built and year renovated we can guite well asses the real condition\r\n",
        "\r\n",
        "## AML UI approach - click-click approach\r\n",
        "Here anly basic steps of this approach will be described, the written approach seems to be much more flexible and overall better.\r\n",
        "\r\n",
        "Some of the beggining steps will be later reused in the Jupiter approach.\r\n",
        "\r\n",
        "1. Go to https://ml.azure.com - if you have no resource you will be prompted to create one, so just follow the instructions, or click on create new resource.\r\n",
        "2. Compute Tab - New Compute Instance - the best one is the cheapest one, later it will be the **test instance**\r\n",
        "3. Compute Tab - New Compute Cluster - again best is cheapest, later it will be used as **train instance**\r\n",
        "4. Upload Dataset - in dataset tab - all instructions are prompted to one, as one goes\r\n",
        "5. Check data in data set, the uppermentioned dataset is prepared, but some may need transformations\r\n",
        "6. Explore data in Explore Tab\r\n",
        "7. Go to AML tab - the blot with a gear icon - **New Run** - basically one is again prompted all the way\r\n",
        "8. Select Dataset\r\n",
        "9. Create Experiment - change time prom 3h to 1h, to save some money\r\n",
        "10. Check the results\r\n",
        "\r\n",
        "## Jupyter approach\r\n",
        "Whole approach will be presented in the cells below."
      ],
      "metadata": {
        "nteract": {
          "transient": {
            "deleting": false
          }
        }
      }
    },
    {
      "cell_type": "markdown",
      "source": [
        "### Set up SDK\r\n",
        "First Cell updates SDK, this is an answer to the frequently showing up problem."
      ],
      "metadata": {
        "nteract": {
          "transient": {
            "deleting": false
          }
        }
      }
    },
    {
      "cell_type": "code",
      "source": [
        "pip install --upgrade --upgrade-strategy eager azureml-sdk"
      ],
      "outputs": [
        {
          "output_type": "stream",
          "name": "stdout",
          "text": [
            "Requirement already up-to-date: azureml-sdk in /anaconda/envs/azureml_py36/lib/python3.6/site-packages (1.21.0)\n",
            "Requirement already up-to-date: azureml-dataset-runtime[fuse]~=1.21.0 in /anaconda/envs/azureml_py36/lib/python3.6/site-packages (from azureml-sdk) (1.21.0)\n",
            "Requirement already up-to-date: azureml-pipeline~=1.21.0 in /anaconda/envs/azureml_py36/lib/python3.6/site-packages (from azureml-sdk) (1.21.0)\n",
            "Requirement already up-to-date: azureml-core~=1.21.0 in /anaconda/envs/azureml_py36/lib/python3.6/site-packages (from azureml-sdk) (1.21.0.post1)\n",
            "Requirement already up-to-date: azureml-train-automl-client~=1.21.0 in /anaconda/envs/azureml_py36/lib/python3.6/site-packages (from azureml-sdk) (1.21.0)\n",
            "Requirement already up-to-date: azureml-train~=1.21.0 in /anaconda/envs/azureml_py36/lib/python3.6/site-packages (from azureml-sdk) (1.21.0)\n",
            "Requirement already up-to-date: pyarrow<2.0.0,>=0.17.0 in /anaconda/envs/azureml_py36/lib/python3.6/site-packages (from azureml-dataset-runtime[fuse]~=1.21.0->azureml-sdk) (1.0.1)\n",
            "Requirement already up-to-date: azureml-dataprep<2.9.0a,>=2.8.0a in /anaconda/envs/azureml_py36/lib/python3.6/site-packages (from azureml-dataset-runtime[fuse]~=1.21.0->azureml-sdk) (2.8.2)\n",
            "Requirement already up-to-date: numpy!=1.19.3; sys_platform == \"linux\" in /anaconda/envs/azureml_py36/lib/python3.6/site-packages (from azureml-dataset-runtime[fuse]~=1.21.0->azureml-sdk) (1.19.5)\n",
            "Requirement already up-to-date: fusepy<4.0.0,>=3.0.1; extra == \"fuse\" in /anaconda/envs/azureml_py36/lib/python3.6/site-packages (from azureml-dataset-runtime[fuse]~=1.21.0->azureml-sdk) (3.0.1)\n",
            "Requirement already up-to-date: azureml-pipeline-steps~=1.21.0 in /anaconda/envs/azureml_py36/lib/python3.6/site-packages (from azureml-pipeline~=1.21.0->azureml-sdk) (1.21.0)\n",
            "Requirement already up-to-date: azureml-pipeline-core~=1.21.0 in /anaconda/envs/azureml_py36/lib/python3.6/site-packages (from azureml-pipeline~=1.21.0->azureml-sdk) (1.21.0)\n",
            "Requirement already up-to-date: pytz in /anaconda/envs/azureml_py36/lib/python3.6/site-packages (from azureml-core~=1.21.0->azureml-sdk) (2020.5)\n",
            "Requirement already up-to-date: azure-mgmt-containerregistry>=2.0.0 in /anaconda/envs/azureml_py36/lib/python3.6/site-packages (from azureml-core~=1.21.0->azureml-sdk) (2.8.0)\n",
            "Requirement already up-to-date: pathspec in /anaconda/envs/azureml_py36/lib/python3.6/site-packages (from azureml-core~=1.21.0->azureml-sdk) (0.8.1)\n",
            "Requirement already up-to-date: requests>=2.19.1 in /anaconda/envs/azureml_py36/lib/python3.6/site-packages (from azureml-core~=1.21.0->azureml-sdk) (2.25.1)\n",
            "Requirement already up-to-date: PyJWT<2.0.0 in /anaconda/envs/azureml_py36/lib/python3.6/site-packages (from azureml-core~=1.21.0->azureml-sdk) (1.7.1)\n",
            "Requirement already up-to-date: jmespath in /anaconda/envs/azureml_py36/lib/python3.6/site-packages (from azureml-core~=1.21.0->azureml-sdk) (0.10.0)\n",
            "Requirement already up-to-date: python-dateutil>=2.7.3 in /anaconda/envs/azureml_py36/lib/python3.6/site-packages (from azureml-core~=1.21.0->azureml-sdk) (2.8.1)\n",
            "Requirement already up-to-date: msrestazure>=0.4.33 in /anaconda/envs/azureml_py36/lib/python3.6/site-packages (from azureml-core~=1.21.0->azureml-sdk) (0.6.4)\n",
            "Requirement already up-to-date: SecretStorage in /anaconda/envs/azureml_py36/lib/python3.6/site-packages (from azureml-core~=1.21.0->azureml-sdk) (3.3.0)\n",
            "Requirement already up-to-date: urllib3>=1.23 in /anaconda/envs/azureml_py36/lib/python3.6/site-packages (from azureml-core~=1.21.0->azureml-sdk) (1.26.2)\n",
            "Requirement already up-to-date: adal>=1.2.0 in /anaconda/envs/azureml_py36/lib/python3.6/site-packages (from azureml-core~=1.21.0->azureml-sdk) (1.2.6)\n",
            "Requirement already up-to-date: ruamel.yaml>=0.15.35 in /anaconda/envs/azureml_py36/lib/python3.6/site-packages (from azureml-core~=1.21.0->azureml-sdk) (0.16.12)\n",
            "Requirement already up-to-date: backports.tempfile in /anaconda/envs/azureml_py36/lib/python3.6/site-packages (from azureml-core~=1.21.0->azureml-sdk) (1.0)\n",
            "Requirement already up-to-date: azure-mgmt-authorization<1.0.0,>=0.40.0 in /anaconda/envs/azureml_py36/lib/python3.6/site-packages (from azureml-core~=1.21.0->azureml-sdk) (0.61.0)\n",
            "Requirement already up-to-date: azure-mgmt-storage<16.0.0,>=1.5.0 in /anaconda/envs/azureml_py36/lib/python3.6/site-packages (from azureml-core~=1.21.0->azureml-sdk) (11.2.0)\n",
            "Requirement already up-to-date: ndg-httpsclient in /anaconda/envs/azureml_py36/lib/python3.6/site-packages (from azureml-core~=1.21.0->azureml-sdk) (0.5.1)\n",
            "Requirement already up-to-date: cryptography!=1.9,!=2.0.*,!=2.1.*,!=2.2.* in /anaconda/envs/azureml_py36/lib/python3.6/site-packages (from azureml-core~=1.21.0->azureml-sdk) (3.3.1)\n",
            "Requirement already up-to-date: pyopenssl<21.0.0 in /anaconda/envs/azureml_py36/lib/python3.6/site-packages (from azureml-core~=1.21.0->azureml-sdk) (20.0.1)\n",
            "Requirement already up-to-date: docker in /anaconda/envs/azureml_py36/lib/python3.6/site-packages (from azureml-core~=1.21.0->azureml-sdk) (4.4.1)\n",
            "Requirement already up-to-date: azure-graphrbac<1.0.0,>=0.40.0 in /anaconda/envs/azureml_py36/lib/python3.6/site-packages (from azureml-core~=1.21.0->azureml-sdk) (0.61.1)\n",
            "Requirement already up-to-date: azure-common>=1.1.12 in /anaconda/envs/azureml_py36/lib/python3.6/site-packages (from azureml-core~=1.21.0->azureml-sdk) (1.1.26)\n",
            "Requirement already up-to-date: jsonpickle in /anaconda/envs/azureml_py36/lib/python3.6/site-packages (from azureml-core~=1.21.0->azureml-sdk) (1.5.0)\n",
            "Requirement already up-to-date: contextlib2 in /anaconda/envs/azureml_py36/lib/python3.6/site-packages (from azureml-core~=1.21.0->azureml-sdk) (0.6.0.post1)\n",
            "Requirement already up-to-date: azure-mgmt-resource<15.0.0,>=1.2.1 in /anaconda/envs/azureml_py36/lib/python3.6/site-packages (from azureml-core~=1.21.0->azureml-sdk) (12.0.0)\n",
            "Requirement already up-to-date: azure-mgmt-keyvault<7.0.0,>=0.40.0 in /anaconda/envs/azureml_py36/lib/python3.6/site-packages (from azureml-core~=1.21.0->azureml-sdk) (2.2.0)\n",
            "Requirement already up-to-date: msrest>=0.5.1 in /anaconda/envs/azureml_py36/lib/python3.6/site-packages (from azureml-core~=1.21.0->azureml-sdk) (0.6.20)\n",
            "Requirement already up-to-date: azureml-telemetry~=1.21.0 in /anaconda/envs/azureml_py36/lib/python3.6/site-packages (from azureml-train-automl-client~=1.21.0->azureml-sdk) (1.21.0)\n",
            "Requirement already up-to-date: azureml-automl-core~=1.21.0 in /anaconda/envs/azureml_py36/lib/python3.6/site-packages (from azureml-train-automl-client~=1.21.0->azureml-sdk) (1.21.0)\n",
            "Requirement already up-to-date: azureml-train-core~=1.21.0 in /anaconda/envs/azureml_py36/lib/python3.6/site-packages (from azureml-train~=1.21.0->azureml-sdk) (1.21.0)\n",
            "Requirement already up-to-date: dotnetcore2<3.0.0,>=2.1.14 in /anaconda/envs/azureml_py36/lib/python3.6/site-packages (from azureml-dataprep<2.9.0a,>=2.8.0a->azureml-dataset-runtime[fuse]~=1.21.0->azureml-sdk) (2.1.20)\n",
            "Requirement already up-to-date: cloudpickle<2.0.0,>=1.1.0 in /anaconda/envs/azureml_py36/lib/python3.6/site-packages (from azureml-dataprep<2.9.0a,>=2.8.0a->azureml-dataset-runtime[fuse]~=1.21.0->azureml-sdk) (1.6.0)\n",
            "Requirement already up-to-date: azureml-dataprep-native<29.0.0,>=28.0.0 in /anaconda/envs/azureml_py36/lib/python3.6/site-packages (from azureml-dataprep<2.9.0a,>=2.8.0a->azureml-dataset-runtime[fuse]~=1.21.0->azureml-sdk) (28.0.0)\n",
            "Requirement already up-to-date: azure-identity<1.5.0,>=1.2.0 in /anaconda/envs/azureml_py36/lib/python3.6/site-packages (from azureml-dataprep<2.9.0a,>=2.8.0a->azureml-dataset-runtime[fuse]~=1.21.0->azureml-sdk) (1.4.1)\n",
            "Requirement already up-to-date: azureml-dataprep-rslex<1.7.0a,>=1.6.0dev0 in /anaconda/envs/azureml_py36/lib/python3.6/site-packages (from azureml-dataprep<2.9.0a,>=2.8.0a->azureml-dataset-runtime[fuse]~=1.21.0->azureml-sdk) (1.6.0)\n",
            "Requirement already up-to-date: chardet<5,>=3.0.2 in /anaconda/envs/azureml_py36/lib/python3.6/site-packages (from requests>=2.19.1->azureml-core~=1.21.0->azureml-sdk) (4.0.0)\n",
            "Requirement already up-to-date: certifi>=2017.4.17 in /anaconda/envs/azureml_py36/lib/python3.6/site-packages (from requests>=2.19.1->azureml-core~=1.21.0->azureml-sdk) (2020.12.5)\n",
            "Requirement already up-to-date: idna<3,>=2.5 in /anaconda/envs/azureml_py36/lib/python3.6/site-packages (from requests>=2.19.1->azureml-core~=1.21.0->azureml-sdk) (2.10)\n",
            "Requirement already up-to-date: six>=1.5 in /anaconda/envs/azureml_py36/lib/python3.6/site-packages (from python-dateutil>=2.7.3->azureml-core~=1.21.0->azureml-sdk) (1.15.0)\n",
            "Requirement already up-to-date: jeepney>=0.6 in /anaconda/envs/azureml_py36/lib/python3.6/site-packages (from SecretStorage->azureml-core~=1.21.0->azureml-sdk) (0.6.0)\n",
            "Requirement already up-to-date: ruamel.yaml.clib>=0.1.2; platform_python_implementation == \"CPython\" and python_version < \"3.9\" in /anaconda/envs/azureml_py36/lib/python3.6/site-packages (from ruamel.yaml>=0.15.35->azureml-core~=1.21.0->azureml-sdk) (0.2.2)\n",
            "Requirement already up-to-date: backports.weakref in /anaconda/envs/azureml_py36/lib/python3.6/site-packages (from backports.tempfile->azureml-core~=1.21.0->azureml-sdk) (1.0.post1)\n",
            "Requirement already up-to-date: pyasn1>=0.1.1 in /anaconda/envs/azureml_py36/lib/python3.6/site-packages (from ndg-httpsclient->azureml-core~=1.21.0->azureml-sdk) (0.4.8)\n",
            "Requirement already up-to-date: cffi>=1.12 in /anaconda/envs/azureml_py36/lib/python3.6/site-packages (from cryptography!=1.9,!=2.0.*,!=2.1.*,!=2.2.*->azureml-core~=1.21.0->azureml-sdk) (1.14.4)\n",
            "Requirement already up-to-date: websocket-client>=0.32.0 in /anaconda/envs/azureml_py36/lib/python3.6/site-packages (from docker->azureml-core~=1.21.0->azureml-sdk) (0.57.0)\n",
            "Requirement already up-to-date: importlib-metadata; python_version < \"3.8\" in /anaconda/envs/azureml_py36/lib/python3.6/site-packages (from jsonpickle->azureml-core~=1.21.0->azureml-sdk) (3.4.0)\n",
            "Requirement already up-to-date: requests-oauthlib>=0.5.0 in /anaconda/envs/azureml_py36/lib/python3.6/site-packages (from msrest>=0.5.1->azureml-core~=1.21.0->azureml-sdk) (1.3.0)\n",
            "Requirement already up-to-date: isodate>=0.6.0 in /anaconda/envs/azureml_py36/lib/python3.6/site-packages (from msrest>=0.5.1->azureml-core~=1.21.0->azureml-sdk) (0.6.0)\n",
            "Requirement already up-to-date: applicationinsights in /anaconda/envs/azureml_py36/lib/python3.6/site-packages (from azureml-telemetry~=1.21.0->azureml-train-automl-client~=1.21.0->azureml-sdk) (0.11.9)\n",
            "Requirement already up-to-date: azureml-train-restclients-hyperdrive~=1.21.0 in /anaconda/envs/azureml_py36/lib/python3.6/site-packages (from azureml-train-core~=1.21.0->azureml-train~=1.21.0->azureml-sdk) (1.21.0)\n",
            "Requirement already up-to-date: distro>=1.2.0 in /anaconda/envs/azureml_py36/lib/python3.6/site-packages (from dotnetcore2<3.0.0,>=2.1.14->azureml-dataprep<2.9.0a,>=2.8.0a->azureml-dataset-runtime[fuse]~=1.21.0->azureml-sdk) (1.5.0)\n",
            "Requirement already up-to-date: msal<2.0.0,>=1.3.0 in /anaconda/envs/azureml_py36/lib/python3.6/site-packages (from azure-identity<1.5.0,>=1.2.0->azureml-dataprep<2.9.0a,>=2.8.0a->azureml-dataset-runtime[fuse]~=1.21.0->azureml-sdk) (1.8.0)\n",
            "Requirement already up-to-date: azure-core<2.0.0,>=1.0.0 in /anaconda/envs/azureml_py36/lib/python3.6/site-packages (from azure-identity<1.5.0,>=1.2.0->azureml-dataprep<2.9.0a,>=2.8.0a->azureml-dataset-runtime[fuse]~=1.21.0->azureml-sdk) (1.10.0)\n",
            "Requirement already up-to-date: msal-extensions~=0.2.2 in /anaconda/envs/azureml_py36/lib/python3.6/site-packages (from azure-identity<1.5.0,>=1.2.0->azureml-dataprep<2.9.0a,>=2.8.0a->azureml-dataset-runtime[fuse]~=1.21.0->azureml-sdk) (0.2.2)\n",
            "Requirement already up-to-date: pycparser in /anaconda/envs/azureml_py36/lib/python3.6/site-packages (from cffi>=1.12->cryptography!=1.9,!=2.0.*,!=2.1.*,!=2.2.*->azureml-core~=1.21.0->azureml-sdk) (2.20)\n",
            "Requirement already up-to-date: zipp>=0.5 in /anaconda/envs/azureml_py36/lib/python3.6/site-packages (from importlib-metadata; python_version < \"3.8\"->jsonpickle->azureml-core~=1.21.0->azureml-sdk) (3.4.0)\n",
            "Requirement already up-to-date: typing-extensions>=3.6.4; python_version < \"3.8\" in /anaconda/envs/azureml_py36/lib/python3.6/site-packages (from importlib-metadata; python_version < \"3.8\"->jsonpickle->azureml-core~=1.21.0->azureml-sdk) (3.7.4.3)\n",
            "Requirement already up-to-date: oauthlib>=3.0.0 in /anaconda/envs/azureml_py36/lib/python3.6/site-packages (from requests-oauthlib>=0.5.0->msrest>=0.5.1->azureml-core~=1.21.0->azureml-sdk) (3.1.0)\n",
            "Requirement already up-to-date: portalocker~=1.0; platform_system != \"Windows\" in /anaconda/envs/azureml_py36/lib/python3.6/site-packages (from msal-extensions~=0.2.2->azure-identity<1.5.0,>=1.2.0->azureml-dataprep<2.9.0a,>=2.8.0a->azureml-dataset-runtime[fuse]~=1.21.0->azureml-sdk) (1.7.1)\n",
            "Note: you may need to restart the kernel to use updated packages.\n"
          ]
        }
      ],
      "execution_count": 3,
      "metadata": {
        "collapsed": true,
        "jupyter": {
          "source_hidden": false,
          "outputs_hidden": false
        },
        "nteract": {
          "transient": {
            "deleting": false
          }
        },
        "gather": {
          "logged": 1611668518555
        }
      }
    },
    {
      "cell_type": "markdown",
      "source": [
        "Despite all errors in the upper cell, the SDK seems to have installed correctly"
      ],
      "metadata": {
        "nteract": {
          "transient": {
            "deleting": false
          }
        }
      }
    },
    {
      "cell_type": "code",
      "source": [
        "import azureml.core\r\n",
        "\r\n",
        "print(azureml.core.VERSION)"
      ],
      "outputs": [
        {
          "output_type": "stream",
          "name": "stdout",
          "text": [
            "1.21.0\n"
          ]
        }
      ],
      "execution_count": 1,
      "metadata": {
        "collapsed": true,
        "jupyter": {
          "source_hidden": false,
          "outputs_hidden": false
        },
        "nteract": {
          "transient": {
            "deleting": false
          }
        },
        "gather": {
          "logged": 1611668535034
        }
      }
    },
    {
      "cell_type": "markdown",
      "source": [
        "### Load and set-up Dataset"
      ],
      "metadata": {
        "nteract": {
          "transient": {
            "deleting": false
          }
        }
      }
    },
    {
      "cell_type": "code",
      "source": [
        "from azureml.core import Workspace, Dataset\r\n",
        "\r\n",
        "subscription_id = '2bf6a9f2-6624-4947-9b91-d49100c13f5c'\r\n",
        "resource_group = 'AZURE_AI'\r\n",
        "workspace_name = 'azureml'\r\n",
        "\r\n",
        "work_space = Workspace(subscription_id, resource_group, workspace_name)"
      ],
      "outputs": [],
      "execution_count": 2,
      "metadata": {
        "collapsed": true,
        "jupyter": {
          "source_hidden": false,
          "outputs_hidden": false
        },
        "nteract": {
          "transient": {
            "deleting": false
          }
        },
        "gather": {
          "logged": 1611668537765
        }
      }
    },
    {
      "cell_type": "code",
      "source": [
        "# Load data into AML dataset format\r\n",
        "housing_ds = work_space.datasets['housing']"
      ],
      "outputs": [],
      "execution_count": 3,
      "metadata": {
        "collapsed": true,
        "jupyter": {
          "source_hidden": false,
          "outputs_hidden": false
        },
        "nteract": {
          "transient": {
            "deleting": false
          }
        },
        "gather": {
          "logged": 1611668538753
        }
      }
    },
    {
      "cell_type": "code",
      "source": [
        "housing_ds"
      ],
      "outputs": [
        {
          "output_type": "execute_result",
          "execution_count": 4,
          "data": {
            "text/plain": "{\n  \"source\": [\n    \"('workspaceblobstore', 'UI/01-26-2021_105808_UTC/housing_adv.csv')\"\n  ],\n  \"definition\": [\n    \"GetDatastoreFiles\",\n    \"ParseDelimited\",\n    \"DropColumns\",\n    \"SetColumnTypes\"\n  ],\n  \"registration\": {\n    \"id\": \"46df87cb-90f2-4bba-9d0f-f85f7e4dea0b\",\n    \"name\": \"housing\",\n    \"version\": 2,\n    \"workspace\": \"Workspace.create(name='azureml', subscription_id='2bf6a9f2-6624-4947-9b91-d49100c13f5c', resource_group='AZURE_AI')\"\n  }\n}"
          },
          "metadata": {}
        }
      ],
      "execution_count": 4,
      "metadata": {
        "collapsed": true,
        "jupyter": {
          "source_hidden": false,
          "outputs_hidden": false
        },
        "nteract": {
          "transient": {
            "deleting": false
          }
        },
        "gather": {
          "logged": 1611668541475
        }
      }
    },
    {
      "cell_type": "markdown",
      "source": [
        "To perform visual operations I will use pandas dataframe, it is easier to operate. The Trainging will be performed on datasets"
      ],
      "metadata": {
        "nteract": {
          "transient": {
            "deleting": false
          }
        }
      }
    },
    {
      "cell_type": "code",
      "source": [
        "housing_df = housing_ds.to_pandas_dataframe()"
      ],
      "outputs": [],
      "execution_count": 5,
      "metadata": {
        "collapsed": true,
        "jupyter": {
          "source_hidden": false,
          "outputs_hidden": false
        },
        "nteract": {
          "transient": {
            "deleting": false
          }
        },
        "gather": {
          "logged": 1611668544030
        }
      }
    },
    {
      "cell_type": "code",
      "source": [
        "housing_df.head()"
      ],
      "outputs": [
        {
          "output_type": "execute_result",
          "execution_count": 6,
          "data": {
            "text/plain": "      price  bedrooms  bathrooms  sqft_living  sqft_lot  floors  waterfront  \\\n0  221900.0       3.0       1.00       1180.0      5650     1.0           0   \n1  538000.0       3.0       2.25       2570.0      7242     2.0           0   \n2  180000.0       2.0       1.00        770.0     10000     1.0           0   \n3  604000.0       4.0       3.00       1960.0      5000     1.0           0   \n4  510000.0       3.0       2.00       1680.0      8080     1.0           0   \n\n   view  condition  grade  ...     long  sqft_living15  sqft_lot15  month  \\\n0     0          3      7  ... -122.257         1340.0      5650.0     10   \n1     0          3      7  ... -122.319         1690.0      7639.0     12   \n2     0          3      6  ... -122.233         2720.0      8062.0      2   \n3     0          5      7  ... -122.393         1360.0      5000.0     12   \n4     0          3      8  ... -122.045         1800.0      7503.0      2   \n\n   year  bedrooms_squared  bed_bath_rooms  log_sqft_living  sqft_rooms  \\\n0  2014               9.0            3.00         7.073270  295.000000   \n1  2014               9.0            6.75         7.851661  489.523810   \n2  2015               4.0            2.00         6.646391  256.666667   \n3  2014              16.0           12.00         7.580700  280.000000   \n4  2015               9.0            6.00         7.426549  336.000000   \n\n   condition_advanced  \n0               11730  \n1               11826  \n2               11598  \n3               19650  \n4               11922  \n\n[5 rows x 25 columns]",
            "text/html": "<div>\n<style scoped>\n    .dataframe tbody tr th:only-of-type {\n        vertical-align: middle;\n    }\n\n    .dataframe tbody tr th {\n        vertical-align: top;\n    }\n\n    .dataframe thead th {\n        text-align: right;\n    }\n</style>\n<table border=\"1\" class=\"dataframe\">\n  <thead>\n    <tr style=\"text-align: right;\">\n      <th></th>\n      <th>price</th>\n      <th>bedrooms</th>\n      <th>bathrooms</th>\n      <th>sqft_living</th>\n      <th>sqft_lot</th>\n      <th>floors</th>\n      <th>waterfront</th>\n      <th>view</th>\n      <th>condition</th>\n      <th>grade</th>\n      <th>...</th>\n      <th>long</th>\n      <th>sqft_living15</th>\n      <th>sqft_lot15</th>\n      <th>month</th>\n      <th>year</th>\n      <th>bedrooms_squared</th>\n      <th>bed_bath_rooms</th>\n      <th>log_sqft_living</th>\n      <th>sqft_rooms</th>\n      <th>condition_advanced</th>\n    </tr>\n  </thead>\n  <tbody>\n    <tr>\n      <th>0</th>\n      <td>221900.0</td>\n      <td>3.0</td>\n      <td>1.00</td>\n      <td>1180.0</td>\n      <td>5650</td>\n      <td>1.0</td>\n      <td>0</td>\n      <td>0</td>\n      <td>3</td>\n      <td>7</td>\n      <td>...</td>\n      <td>-122.257</td>\n      <td>1340.0</td>\n      <td>5650.0</td>\n      <td>10</td>\n      <td>2014</td>\n      <td>9.0</td>\n      <td>3.00</td>\n      <td>7.073270</td>\n      <td>295.000000</td>\n      <td>11730</td>\n    </tr>\n    <tr>\n      <th>1</th>\n      <td>538000.0</td>\n      <td>3.0</td>\n      <td>2.25</td>\n      <td>2570.0</td>\n      <td>7242</td>\n      <td>2.0</td>\n      <td>0</td>\n      <td>0</td>\n      <td>3</td>\n      <td>7</td>\n      <td>...</td>\n      <td>-122.319</td>\n      <td>1690.0</td>\n      <td>7639.0</td>\n      <td>12</td>\n      <td>2014</td>\n      <td>9.0</td>\n      <td>6.75</td>\n      <td>7.851661</td>\n      <td>489.523810</td>\n      <td>11826</td>\n    </tr>\n    <tr>\n      <th>2</th>\n      <td>180000.0</td>\n      <td>2.0</td>\n      <td>1.00</td>\n      <td>770.0</td>\n      <td>10000</td>\n      <td>1.0</td>\n      <td>0</td>\n      <td>0</td>\n      <td>3</td>\n      <td>6</td>\n      <td>...</td>\n      <td>-122.233</td>\n      <td>2720.0</td>\n      <td>8062.0</td>\n      <td>2</td>\n      <td>2015</td>\n      <td>4.0</td>\n      <td>2.00</td>\n      <td>6.646391</td>\n      <td>256.666667</td>\n      <td>11598</td>\n    </tr>\n    <tr>\n      <th>3</th>\n      <td>604000.0</td>\n      <td>4.0</td>\n      <td>3.00</td>\n      <td>1960.0</td>\n      <td>5000</td>\n      <td>1.0</td>\n      <td>0</td>\n      <td>0</td>\n      <td>5</td>\n      <td>7</td>\n      <td>...</td>\n      <td>-122.393</td>\n      <td>1360.0</td>\n      <td>5000.0</td>\n      <td>12</td>\n      <td>2014</td>\n      <td>16.0</td>\n      <td>12.00</td>\n      <td>7.580700</td>\n      <td>280.000000</td>\n      <td>19650</td>\n    </tr>\n    <tr>\n      <th>4</th>\n      <td>510000.0</td>\n      <td>3.0</td>\n      <td>2.00</td>\n      <td>1680.0</td>\n      <td>8080</td>\n      <td>1.0</td>\n      <td>0</td>\n      <td>0</td>\n      <td>3</td>\n      <td>8</td>\n      <td>...</td>\n      <td>-122.045</td>\n      <td>1800.0</td>\n      <td>7503.0</td>\n      <td>2</td>\n      <td>2015</td>\n      <td>9.0</td>\n      <td>6.00</td>\n      <td>7.426549</td>\n      <td>336.000000</td>\n      <td>11922</td>\n    </tr>\n  </tbody>\n</table>\n<p>5 rows × 25 columns</p>\n</div>"
          },
          "metadata": {}
        }
      ],
      "execution_count": 6,
      "metadata": {
        "collapsed": true,
        "jupyter": {
          "source_hidden": false,
          "outputs_hidden": false
        },
        "nteract": {
          "transient": {
            "deleting": false
          }
        },
        "gather": {
          "logged": 1611668544200
        }
      }
    },
    {
      "cell_type": "code",
      "source": [
        "housing_df.info()"
      ],
      "outputs": [
        {
          "output_type": "stream",
          "name": "stdout",
          "text": [
            "<class 'pandas.core.frame.DataFrame'>\n",
            "RangeIndex: 21596 entries, 0 to 21595\n",
            "Data columns (total 25 columns):\n",
            "price                 21596 non-null float64\n",
            "bedrooms              21596 non-null float64\n",
            "bathrooms             21596 non-null float64\n",
            "sqft_living           21596 non-null float64\n",
            "sqft_lot              21596 non-null int64\n",
            "floors                21596 non-null float64\n",
            "waterfront            21596 non-null int64\n",
            "view                  21596 non-null int64\n",
            "condition             21596 non-null int64\n",
            "grade                 21596 non-null int64\n",
            "sqft_above            21596 non-null int64\n",
            "sqft_basement         21596 non-null int64\n",
            "yr_built              21596 non-null int64\n",
            "yr_renovated          21596 non-null int64\n",
            "lat                   21596 non-null float64\n",
            "long                  21596 non-null float64\n",
            "sqft_living15         21596 non-null float64\n",
            "sqft_lot15            21596 non-null float64\n",
            "month                 21596 non-null int64\n",
            "year                  21596 non-null int64\n",
            "bedrooms_squared      21596 non-null float64\n",
            "bed_bath_rooms        21596 non-null float64\n",
            "log_sqft_living       21596 non-null float64\n",
            "sqft_rooms            21596 non-null float64\n",
            "condition_advanced    21596 non-null int64\n",
            "dtypes: float64(13), int64(12)\n",
            "memory usage: 4.1 MB\n"
          ]
        }
      ],
      "execution_count": 7,
      "metadata": {
        "collapsed": true,
        "jupyter": {
          "source_hidden": false,
          "outputs_hidden": false
        },
        "nteract": {
          "transient": {
            "deleting": false
          }
        },
        "gather": {
          "logged": 1611668544249
        }
      }
    },
    {
      "cell_type": "markdown",
      "source": [
        "One can easili notice, that data was prepared well: no null, only numericly continuous and meaningful data and the previously categorical data was transformed into separate columns or numbers."
      ],
      "metadata": {
        "nteract": {
          "transient": {
            "deleting": false
          }
        }
      }
    },
    {
      "cell_type": "markdown",
      "source": [
        "### Train-Test split\r\n",
        "Theoretically, we should always create 3 sets of data, training, validation and test. \r\n",
        "But due to the fact that here i want to learn only the Azure functionality, i will use test dataset as the validation dataset.\r\n",
        "Additionaly, what i have learned later, the AML creates validation dataset on its own during learing process."
      ],
      "metadata": {
        "nteract": {
          "transient": {
            "deleting": false
          }
        }
      }
    },
    {
      "cell_type": "code",
      "source": [
        "train_ds, test_ds = housing_ds.random_split(0.7)"
      ],
      "outputs": [],
      "execution_count": 8,
      "metadata": {
        "collapsed": true,
        "jupyter": {
          "source_hidden": false,
          "outputs_hidden": false
        },
        "nteract": {
          "transient": {
            "deleting": false
          }
        },
        "gather": {
          "logged": 1611668546611
        }
      }
    },
    {
      "cell_type": "code",
      "source": [
        "train_ds.to_pandas_dataframe().describe().T"
      ],
      "outputs": [
        {
          "output_type": "execute_result",
          "execution_count": 9,
          "data": {
            "text/plain": "                      count           mean            std           min  \\\nprice               15149.0  540446.091755  369067.328341  78000.000000   \nbedrooms            15149.0       3.373358       0.910081      1.000000   \nbathrooms           15149.0       2.119645       0.773188      0.500000   \nsqft_living         15149.0    2084.808304     927.282072    370.000000   \nsqft_lot            15149.0   15043.513037   42338.476928    520.000000   \nfloors              15149.0       1.494422       0.541472      1.000000   \nwaterfront          15149.0       0.007195       0.084522      0.000000   \nview                15149.0       0.233283       0.763125      0.000000   \ncondition           15149.0       3.402997       0.646980      1.000000   \ngrade               15149.0       7.659185       1.177068      3.000000   \nsqft_above          15149.0    1790.624002     835.361394    370.000000   \nsqft_basement       15149.0     294.184303     445.725673      0.000000   \nyr_built            15149.0    1971.252294      29.330191   1900.000000   \nyr_renovated        15149.0    1973.551720      28.770128   1900.000000   \nlat                 15149.0      47.560167       0.138369     47.155900   \nlong                15149.0    -122.212173       0.142504   -122.519000   \nsqft_living15       15149.0    1989.613572     685.922953    399.000000   \nsqft_lot15          15149.0   12535.045019   26070.584967    651.000000   \nmonth               15149.0       6.575550       3.117651      1.000000   \nyear                15149.0    2014.324510       0.468207   2014.000000   \nbedrooms_squared    15149.0      12.207736       6.782764      1.000000   \nbed_bath_rooms      15149.0       7.523516       4.259374      0.500000   \nlog_sqft_living     15149.0       7.552098       0.425786      5.913503   \nsqft_rooms          15149.0     373.087187     103.531333    130.666667   \ncondition_advanced  15149.0   13409.988118    2465.488879   3800.000000   \n\n                              25%           50%            75%           max  \nprice               321027.000000  452500.00000  645000.000000  7.700000e+06  \nbedrooms                 3.000000       3.00000       4.000000  1.100000e+01  \nbathrooms                1.750000       2.25000       2.500000  8.000000e+00  \nsqft_living           1420.000000    1920.00000    2560.000000  1.354000e+04  \nsqft_lot              5036.000000    7616.00000   10716.000000  1.651359e+06  \nfloors                   1.000000       1.50000       2.000000  3.500000e+00  \nwaterfront               0.000000       0.00000       0.000000  1.000000e+00  \nview                     0.000000       0.00000       0.000000  4.000000e+00  \ncondition                3.000000       3.00000       4.000000  5.000000e+00  \ngrade                    7.000000       7.00000       8.000000  1.300000e+01  \nsqft_above            1190.000000    1560.00000    2210.000000  9.410000e+03  \nsqft_basement            0.000000       0.00000     570.000000  4.820000e+03  \nyr_built              1952.000000    1975.00000    1997.000000  2.015000e+03  \nyr_renovated          1954.000000    1978.00000    1999.000000  2.015000e+03  \nlat                     47.471300      47.57190      47.677700  4.777760e+01  \nlong                  -122.328000    -122.22800    -122.122000 -1.213150e+02  \nsqft_living15         1490.000000    1840.00000    2370.000000  6.210000e+03  \nsqft_lot15            5100.000000    7625.00000   10091.000000  8.712000e+05  \nmonth                    4.000000       6.00000       9.000000  1.200000e+01  \nyear                  2014.000000    2014.00000    2015.000000  2.015000e+03  \nbedrooms_squared         9.000000       9.00000      16.000000  1.210000e+02  \nbed_bath_rooms           4.500000       7.00000      10.000000  6.750000e+01  \nlog_sqft_living          7.258412       7.56008       7.847763  9.513404e+00  \nsqft_rooms             299.130435     354.00000     428.148148  1.824000e+03  \ncondition_advanced   11862.000000   12024.00000   15624.000000  2.005000e+04  ",
            "text/html": "<div>\n<style scoped>\n    .dataframe tbody tr th:only-of-type {\n        vertical-align: middle;\n    }\n\n    .dataframe tbody tr th {\n        vertical-align: top;\n    }\n\n    .dataframe thead th {\n        text-align: right;\n    }\n</style>\n<table border=\"1\" class=\"dataframe\">\n  <thead>\n    <tr style=\"text-align: right;\">\n      <th></th>\n      <th>count</th>\n      <th>mean</th>\n      <th>std</th>\n      <th>min</th>\n      <th>25%</th>\n      <th>50%</th>\n      <th>75%</th>\n      <th>max</th>\n    </tr>\n  </thead>\n  <tbody>\n    <tr>\n      <th>price</th>\n      <td>15149.0</td>\n      <td>540446.091755</td>\n      <td>369067.328341</td>\n      <td>78000.000000</td>\n      <td>321027.000000</td>\n      <td>452500.00000</td>\n      <td>645000.000000</td>\n      <td>7.700000e+06</td>\n    </tr>\n    <tr>\n      <th>bedrooms</th>\n      <td>15149.0</td>\n      <td>3.373358</td>\n      <td>0.910081</td>\n      <td>1.000000</td>\n      <td>3.000000</td>\n      <td>3.00000</td>\n      <td>4.000000</td>\n      <td>1.100000e+01</td>\n    </tr>\n    <tr>\n      <th>bathrooms</th>\n      <td>15149.0</td>\n      <td>2.119645</td>\n      <td>0.773188</td>\n      <td>0.500000</td>\n      <td>1.750000</td>\n      <td>2.25000</td>\n      <td>2.500000</td>\n      <td>8.000000e+00</td>\n    </tr>\n    <tr>\n      <th>sqft_living</th>\n      <td>15149.0</td>\n      <td>2084.808304</td>\n      <td>927.282072</td>\n      <td>370.000000</td>\n      <td>1420.000000</td>\n      <td>1920.00000</td>\n      <td>2560.000000</td>\n      <td>1.354000e+04</td>\n    </tr>\n    <tr>\n      <th>sqft_lot</th>\n      <td>15149.0</td>\n      <td>15043.513037</td>\n      <td>42338.476928</td>\n      <td>520.000000</td>\n      <td>5036.000000</td>\n      <td>7616.00000</td>\n      <td>10716.000000</td>\n      <td>1.651359e+06</td>\n    </tr>\n    <tr>\n      <th>floors</th>\n      <td>15149.0</td>\n      <td>1.494422</td>\n      <td>0.541472</td>\n      <td>1.000000</td>\n      <td>1.000000</td>\n      <td>1.50000</td>\n      <td>2.000000</td>\n      <td>3.500000e+00</td>\n    </tr>\n    <tr>\n      <th>waterfront</th>\n      <td>15149.0</td>\n      <td>0.007195</td>\n      <td>0.084522</td>\n      <td>0.000000</td>\n      <td>0.000000</td>\n      <td>0.00000</td>\n      <td>0.000000</td>\n      <td>1.000000e+00</td>\n    </tr>\n    <tr>\n      <th>view</th>\n      <td>15149.0</td>\n      <td>0.233283</td>\n      <td>0.763125</td>\n      <td>0.000000</td>\n      <td>0.000000</td>\n      <td>0.00000</td>\n      <td>0.000000</td>\n      <td>4.000000e+00</td>\n    </tr>\n    <tr>\n      <th>condition</th>\n      <td>15149.0</td>\n      <td>3.402997</td>\n      <td>0.646980</td>\n      <td>1.000000</td>\n      <td>3.000000</td>\n      <td>3.00000</td>\n      <td>4.000000</td>\n      <td>5.000000e+00</td>\n    </tr>\n    <tr>\n      <th>grade</th>\n      <td>15149.0</td>\n      <td>7.659185</td>\n      <td>1.177068</td>\n      <td>3.000000</td>\n      <td>7.000000</td>\n      <td>7.00000</td>\n      <td>8.000000</td>\n      <td>1.300000e+01</td>\n    </tr>\n    <tr>\n      <th>sqft_above</th>\n      <td>15149.0</td>\n      <td>1790.624002</td>\n      <td>835.361394</td>\n      <td>370.000000</td>\n      <td>1190.000000</td>\n      <td>1560.00000</td>\n      <td>2210.000000</td>\n      <td>9.410000e+03</td>\n    </tr>\n    <tr>\n      <th>sqft_basement</th>\n      <td>15149.0</td>\n      <td>294.184303</td>\n      <td>445.725673</td>\n      <td>0.000000</td>\n      <td>0.000000</td>\n      <td>0.00000</td>\n      <td>570.000000</td>\n      <td>4.820000e+03</td>\n    </tr>\n    <tr>\n      <th>yr_built</th>\n      <td>15149.0</td>\n      <td>1971.252294</td>\n      <td>29.330191</td>\n      <td>1900.000000</td>\n      <td>1952.000000</td>\n      <td>1975.00000</td>\n      <td>1997.000000</td>\n      <td>2.015000e+03</td>\n    </tr>\n    <tr>\n      <th>yr_renovated</th>\n      <td>15149.0</td>\n      <td>1973.551720</td>\n      <td>28.770128</td>\n      <td>1900.000000</td>\n      <td>1954.000000</td>\n      <td>1978.00000</td>\n      <td>1999.000000</td>\n      <td>2.015000e+03</td>\n    </tr>\n    <tr>\n      <th>lat</th>\n      <td>15149.0</td>\n      <td>47.560167</td>\n      <td>0.138369</td>\n      <td>47.155900</td>\n      <td>47.471300</td>\n      <td>47.57190</td>\n      <td>47.677700</td>\n      <td>4.777760e+01</td>\n    </tr>\n    <tr>\n      <th>long</th>\n      <td>15149.0</td>\n      <td>-122.212173</td>\n      <td>0.142504</td>\n      <td>-122.519000</td>\n      <td>-122.328000</td>\n      <td>-122.22800</td>\n      <td>-122.122000</td>\n      <td>-1.213150e+02</td>\n    </tr>\n    <tr>\n      <th>sqft_living15</th>\n      <td>15149.0</td>\n      <td>1989.613572</td>\n      <td>685.922953</td>\n      <td>399.000000</td>\n      <td>1490.000000</td>\n      <td>1840.00000</td>\n      <td>2370.000000</td>\n      <td>6.210000e+03</td>\n    </tr>\n    <tr>\n      <th>sqft_lot15</th>\n      <td>15149.0</td>\n      <td>12535.045019</td>\n      <td>26070.584967</td>\n      <td>651.000000</td>\n      <td>5100.000000</td>\n      <td>7625.00000</td>\n      <td>10091.000000</td>\n      <td>8.712000e+05</td>\n    </tr>\n    <tr>\n      <th>month</th>\n      <td>15149.0</td>\n      <td>6.575550</td>\n      <td>3.117651</td>\n      <td>1.000000</td>\n      <td>4.000000</td>\n      <td>6.00000</td>\n      <td>9.000000</td>\n      <td>1.200000e+01</td>\n    </tr>\n    <tr>\n      <th>year</th>\n      <td>15149.0</td>\n      <td>2014.324510</td>\n      <td>0.468207</td>\n      <td>2014.000000</td>\n      <td>2014.000000</td>\n      <td>2014.00000</td>\n      <td>2015.000000</td>\n      <td>2.015000e+03</td>\n    </tr>\n    <tr>\n      <th>bedrooms_squared</th>\n      <td>15149.0</td>\n      <td>12.207736</td>\n      <td>6.782764</td>\n      <td>1.000000</td>\n      <td>9.000000</td>\n      <td>9.00000</td>\n      <td>16.000000</td>\n      <td>1.210000e+02</td>\n    </tr>\n    <tr>\n      <th>bed_bath_rooms</th>\n      <td>15149.0</td>\n      <td>7.523516</td>\n      <td>4.259374</td>\n      <td>0.500000</td>\n      <td>4.500000</td>\n      <td>7.00000</td>\n      <td>10.000000</td>\n      <td>6.750000e+01</td>\n    </tr>\n    <tr>\n      <th>log_sqft_living</th>\n      <td>15149.0</td>\n      <td>7.552098</td>\n      <td>0.425786</td>\n      <td>5.913503</td>\n      <td>7.258412</td>\n      <td>7.56008</td>\n      <td>7.847763</td>\n      <td>9.513404e+00</td>\n    </tr>\n    <tr>\n      <th>sqft_rooms</th>\n      <td>15149.0</td>\n      <td>373.087187</td>\n      <td>103.531333</td>\n      <td>130.666667</td>\n      <td>299.130435</td>\n      <td>354.00000</td>\n      <td>428.148148</td>\n      <td>1.824000e+03</td>\n    </tr>\n    <tr>\n      <th>condition_advanced</th>\n      <td>15149.0</td>\n      <td>13409.988118</td>\n      <td>2465.488879</td>\n      <td>3800.000000</td>\n      <td>11862.000000</td>\n      <td>12024.00000</td>\n      <td>15624.000000</td>\n      <td>2.005000e+04</td>\n    </tr>\n  </tbody>\n</table>\n</div>"
          },
          "metadata": {}
        }
      ],
      "execution_count": 9,
      "metadata": {
        "collapsed": true,
        "jupyter": {
          "source_hidden": false,
          "outputs_hidden": false
        },
        "nteract": {
          "transient": {
            "deleting": false
          }
        },
        "gather": {
          "logged": 1611668549068
        }
      }
    },
    {
      "cell_type": "code",
      "source": [
        "test_ds.to_pandas_dataframe().describe().T"
      ],
      "outputs": [
        {
          "output_type": "execute_result",
          "execution_count": 10,
          "data": {
            "text/plain": "                     count           mean            std           min  \\\nprice               6447.0  539616.040639  362604.090690  82500.000000   \nbedrooms            6447.0       3.368233       0.889995      1.000000   \nbathrooms           6447.0       2.106910       0.759047      0.750000   \nsqft_living         6447.0    2069.851094     896.213054    390.000000   \nsqft_lot            6447.0   15232.162556   39157.153601    600.000000   \nfloors              6447.0       1.493408       0.535502      1.000000   \nwaterfront          6447.0       0.008376       0.091143      0.000000   \nview                6447.0       0.236699       0.774116      0.000000   \ncondition           6447.0       3.425624       0.658377      1.000000   \ngrade               6447.0       7.655033       1.164209      4.000000   \nsqft_above          6447.0    1783.949589     809.673448    390.000000   \nsqft_basement       6447.0     285.901505     435.397062      0.000000   \nyr_built            6447.0    1970.409803      29.475394   1900.000000   \nyr_renovated        6447.0    1972.988367      28.897768   1900.000000   \nlat                 6447.0      47.559898       0.138993     47.164700   \nlong                6447.0    -122.218215       0.136368   -122.515000   \nsqft_living15       6447.0    1979.688692     683.607477    460.000000   \nsqft_lot15          6447.0   13284.093687   29910.496034    748.000000   \nmonth               6447.0       6.570343       3.109439      1.000000   \nyear                6447.0    2014.319373       0.466270   2014.000000   \nbedrooms_squared    6447.0      12.136963       6.582563      1.000000   \nbed_bath_rooms      6447.0       7.448930       4.093373      0.750000   \nlog_sqft_living     6447.0       7.547509       0.420462      5.966147   \nsqft_rooms          6447.0     371.999252     102.713948    155.555556   \ncondition_advanced  6447.0   13493.880254    2508.011290   3820.000000   \n\n                              25%            50%            75%           max  \nprice               322734.000000  446500.000000  640000.000000  5.570000e+06  \nbedrooms                 3.000000       3.000000       4.000000  1.000000e+01  \nbathrooms                1.750000       2.250000       2.500000  6.500000e+00  \nsqft_living           1430.000000    1910.000000    2530.000000  9.200000e+03  \nsqft_lot              5080.000000    7620.000000   10608.500000  1.074218e+06  \nfloors                   1.000000       1.500000       2.000000  3.500000e+00  \nwaterfront               0.000000       0.000000       0.000000  1.000000e+00  \nview                     0.000000       0.000000       0.000000  4.000000e+00  \ncondition                3.000000       3.000000       4.000000  5.000000e+00  \ngrade                    7.000000       7.000000       8.000000  1.300000e+01  \nsqft_above            1200.000000    1560.000000    2200.000000  6.530000e+03  \nsqft_basement            0.000000       0.000000     540.000000  3.260000e+03  \nyr_built              1951.000000    1974.000000    1996.000000  2.015000e+03  \nyr_renovated          1954.000000    1977.000000    1998.000000  2.015000e+03  \nlat                     47.469500      47.571500      47.678500  4.777760e+01  \nlong                  -122.329000    -122.237000    -122.132000 -1.213210e+02  \nsqft_living15         1480.000000    1830.000000    2350.000000  5.790000e+03  \nsqft_lot15            5120.000000    7600.000000   10072.500000  8.581320e+05  \nmonth                    4.000000       6.000000       9.000000  1.200000e+01  \nyear                  2014.000000    2014.000000    2015.000000  2.015000e+03  \nbedrooms_squared         9.000000       9.000000      16.000000  1.000000e+02  \nbed_bath_rooms           4.500000       7.000000      10.000000  4.800000e+01  \nlog_sqft_living          7.265430       7.554859       7.835975  9.126959e+00  \nsqft_rooms             297.777778     353.846154     427.434211  1.440000e+03  \ncondition_advanced   11868.000000   12024.000000   15656.000000  2.003000e+04  ",
            "text/html": "<div>\n<style scoped>\n    .dataframe tbody tr th:only-of-type {\n        vertical-align: middle;\n    }\n\n    .dataframe tbody tr th {\n        vertical-align: top;\n    }\n\n    .dataframe thead th {\n        text-align: right;\n    }\n</style>\n<table border=\"1\" class=\"dataframe\">\n  <thead>\n    <tr style=\"text-align: right;\">\n      <th></th>\n      <th>count</th>\n      <th>mean</th>\n      <th>std</th>\n      <th>min</th>\n      <th>25%</th>\n      <th>50%</th>\n      <th>75%</th>\n      <th>max</th>\n    </tr>\n  </thead>\n  <tbody>\n    <tr>\n      <th>price</th>\n      <td>6447.0</td>\n      <td>539616.040639</td>\n      <td>362604.090690</td>\n      <td>82500.000000</td>\n      <td>322734.000000</td>\n      <td>446500.000000</td>\n      <td>640000.000000</td>\n      <td>5.570000e+06</td>\n    </tr>\n    <tr>\n      <th>bedrooms</th>\n      <td>6447.0</td>\n      <td>3.368233</td>\n      <td>0.889995</td>\n      <td>1.000000</td>\n      <td>3.000000</td>\n      <td>3.000000</td>\n      <td>4.000000</td>\n      <td>1.000000e+01</td>\n    </tr>\n    <tr>\n      <th>bathrooms</th>\n      <td>6447.0</td>\n      <td>2.106910</td>\n      <td>0.759047</td>\n      <td>0.750000</td>\n      <td>1.750000</td>\n      <td>2.250000</td>\n      <td>2.500000</td>\n      <td>6.500000e+00</td>\n    </tr>\n    <tr>\n      <th>sqft_living</th>\n      <td>6447.0</td>\n      <td>2069.851094</td>\n      <td>896.213054</td>\n      <td>390.000000</td>\n      <td>1430.000000</td>\n      <td>1910.000000</td>\n      <td>2530.000000</td>\n      <td>9.200000e+03</td>\n    </tr>\n    <tr>\n      <th>sqft_lot</th>\n      <td>6447.0</td>\n      <td>15232.162556</td>\n      <td>39157.153601</td>\n      <td>600.000000</td>\n      <td>5080.000000</td>\n      <td>7620.000000</td>\n      <td>10608.500000</td>\n      <td>1.074218e+06</td>\n    </tr>\n    <tr>\n      <th>floors</th>\n      <td>6447.0</td>\n      <td>1.493408</td>\n      <td>0.535502</td>\n      <td>1.000000</td>\n      <td>1.000000</td>\n      <td>1.500000</td>\n      <td>2.000000</td>\n      <td>3.500000e+00</td>\n    </tr>\n    <tr>\n      <th>waterfront</th>\n      <td>6447.0</td>\n      <td>0.008376</td>\n      <td>0.091143</td>\n      <td>0.000000</td>\n      <td>0.000000</td>\n      <td>0.000000</td>\n      <td>0.000000</td>\n      <td>1.000000e+00</td>\n    </tr>\n    <tr>\n      <th>view</th>\n      <td>6447.0</td>\n      <td>0.236699</td>\n      <td>0.774116</td>\n      <td>0.000000</td>\n      <td>0.000000</td>\n      <td>0.000000</td>\n      <td>0.000000</td>\n      <td>4.000000e+00</td>\n    </tr>\n    <tr>\n      <th>condition</th>\n      <td>6447.0</td>\n      <td>3.425624</td>\n      <td>0.658377</td>\n      <td>1.000000</td>\n      <td>3.000000</td>\n      <td>3.000000</td>\n      <td>4.000000</td>\n      <td>5.000000e+00</td>\n    </tr>\n    <tr>\n      <th>grade</th>\n      <td>6447.0</td>\n      <td>7.655033</td>\n      <td>1.164209</td>\n      <td>4.000000</td>\n      <td>7.000000</td>\n      <td>7.000000</td>\n      <td>8.000000</td>\n      <td>1.300000e+01</td>\n    </tr>\n    <tr>\n      <th>sqft_above</th>\n      <td>6447.0</td>\n      <td>1783.949589</td>\n      <td>809.673448</td>\n      <td>390.000000</td>\n      <td>1200.000000</td>\n      <td>1560.000000</td>\n      <td>2200.000000</td>\n      <td>6.530000e+03</td>\n    </tr>\n    <tr>\n      <th>sqft_basement</th>\n      <td>6447.0</td>\n      <td>285.901505</td>\n      <td>435.397062</td>\n      <td>0.000000</td>\n      <td>0.000000</td>\n      <td>0.000000</td>\n      <td>540.000000</td>\n      <td>3.260000e+03</td>\n    </tr>\n    <tr>\n      <th>yr_built</th>\n      <td>6447.0</td>\n      <td>1970.409803</td>\n      <td>29.475394</td>\n      <td>1900.000000</td>\n      <td>1951.000000</td>\n      <td>1974.000000</td>\n      <td>1996.000000</td>\n      <td>2.015000e+03</td>\n    </tr>\n    <tr>\n      <th>yr_renovated</th>\n      <td>6447.0</td>\n      <td>1972.988367</td>\n      <td>28.897768</td>\n      <td>1900.000000</td>\n      <td>1954.000000</td>\n      <td>1977.000000</td>\n      <td>1998.000000</td>\n      <td>2.015000e+03</td>\n    </tr>\n    <tr>\n      <th>lat</th>\n      <td>6447.0</td>\n      <td>47.559898</td>\n      <td>0.138993</td>\n      <td>47.164700</td>\n      <td>47.469500</td>\n      <td>47.571500</td>\n      <td>47.678500</td>\n      <td>4.777760e+01</td>\n    </tr>\n    <tr>\n      <th>long</th>\n      <td>6447.0</td>\n      <td>-122.218215</td>\n      <td>0.136368</td>\n      <td>-122.515000</td>\n      <td>-122.329000</td>\n      <td>-122.237000</td>\n      <td>-122.132000</td>\n      <td>-1.213210e+02</td>\n    </tr>\n    <tr>\n      <th>sqft_living15</th>\n      <td>6447.0</td>\n      <td>1979.688692</td>\n      <td>683.607477</td>\n      <td>460.000000</td>\n      <td>1480.000000</td>\n      <td>1830.000000</td>\n      <td>2350.000000</td>\n      <td>5.790000e+03</td>\n    </tr>\n    <tr>\n      <th>sqft_lot15</th>\n      <td>6447.0</td>\n      <td>13284.093687</td>\n      <td>29910.496034</td>\n      <td>748.000000</td>\n      <td>5120.000000</td>\n      <td>7600.000000</td>\n      <td>10072.500000</td>\n      <td>8.581320e+05</td>\n    </tr>\n    <tr>\n      <th>month</th>\n      <td>6447.0</td>\n      <td>6.570343</td>\n      <td>3.109439</td>\n      <td>1.000000</td>\n      <td>4.000000</td>\n      <td>6.000000</td>\n      <td>9.000000</td>\n      <td>1.200000e+01</td>\n    </tr>\n    <tr>\n      <th>year</th>\n      <td>6447.0</td>\n      <td>2014.319373</td>\n      <td>0.466270</td>\n      <td>2014.000000</td>\n      <td>2014.000000</td>\n      <td>2014.000000</td>\n      <td>2015.000000</td>\n      <td>2.015000e+03</td>\n    </tr>\n    <tr>\n      <th>bedrooms_squared</th>\n      <td>6447.0</td>\n      <td>12.136963</td>\n      <td>6.582563</td>\n      <td>1.000000</td>\n      <td>9.000000</td>\n      <td>9.000000</td>\n      <td>16.000000</td>\n      <td>1.000000e+02</td>\n    </tr>\n    <tr>\n      <th>bed_bath_rooms</th>\n      <td>6447.0</td>\n      <td>7.448930</td>\n      <td>4.093373</td>\n      <td>0.750000</td>\n      <td>4.500000</td>\n      <td>7.000000</td>\n      <td>10.000000</td>\n      <td>4.800000e+01</td>\n    </tr>\n    <tr>\n      <th>log_sqft_living</th>\n      <td>6447.0</td>\n      <td>7.547509</td>\n      <td>0.420462</td>\n      <td>5.966147</td>\n      <td>7.265430</td>\n      <td>7.554859</td>\n      <td>7.835975</td>\n      <td>9.126959e+00</td>\n    </tr>\n    <tr>\n      <th>sqft_rooms</th>\n      <td>6447.0</td>\n      <td>371.999252</td>\n      <td>102.713948</td>\n      <td>155.555556</td>\n      <td>297.777778</td>\n      <td>353.846154</td>\n      <td>427.434211</td>\n      <td>1.440000e+03</td>\n    </tr>\n    <tr>\n      <th>condition_advanced</th>\n      <td>6447.0</td>\n      <td>13493.880254</td>\n      <td>2508.011290</td>\n      <td>3820.000000</td>\n      <td>11868.000000</td>\n      <td>12024.000000</td>\n      <td>15656.000000</td>\n      <td>2.003000e+04</td>\n    </tr>\n  </tbody>\n</table>\n</div>"
          },
          "metadata": {}
        }
      ],
      "execution_count": 10,
      "metadata": {
        "collapsed": true,
        "jupyter": {
          "source_hidden": false,
          "outputs_hidden": false
        },
        "nteract": {
          "transient": {
            "deleting": false
          }
        },
        "gather": {
          "logged": 1611668549761
        }
      }
    },
    {
      "cell_type": "markdown",
      "source": [
        "Train-Test split was performed correctly, the statistics of both dataset are quite similar, so we can presume that data was split OK."
      ],
      "metadata": {
        "nteract": {
          "transient": {
            "deleting": false
          }
        }
      }
    },
    {
      "cell_type": "markdown",
      "source": [
        "### Cluster - setup and use\r\n",
        "This part of the exercise was mostly taken from one of the examples found on the aml webpage."
      ],
      "metadata": {
        "nteract": {
          "transient": {
            "deleting": false
          }
        }
      }
    },
    {
      "cell_type": "markdown",
      "source": [
        "#### Testinstance"
      ],
      "metadata": {
        "nteract": {
          "transient": {
            "deleting": false
          }
        }
      }
    },
    {
      "cell_type": "code",
      "source": [
        "from azureml.core.compute import AmlCompute\r\n",
        "from azureml.core.compute import ComputeTarget\r\n",
        "\r\n",
        "# list targets form active work_space\r\n",
        "ComputeTarget.list(work_space)"
      ],
      "outputs": [
        {
          "output_type": "execute_result",
          "execution_count": 11,
          "data": {
            "text/plain": "[{\n   \"id\": \"/subscriptions/2bf6a9f2-6624-4947-9b91-d49100c13f5c/resourceGroups/AZURE_AI/providers/Microsoft.MachineLearningServices/workspaces/azureml/computes/testinstance001\",\n   \"name\": \"testinstance001\",\n   \"location\": \"northeurope\",\n   \"tags\": null,\n   \"properties\": {\n     \"description\": null,\n     \"computeType\": \"ComputeInstance\",\n     \"computeLocation\": \"northeurope\",\n     \"resourceId\": null,\n     \"provisioningErrors\": null,\n     \"provisioningState\": \"Succeeded\",\n     \"properties\": {\n       \"vmSize\": \"STANDARD_DS3_V2\",\n       \"applications\": [\n         {\n           \"displayName\": \"Jupyter\",\n           \"endpointUri\": \"https://testinstance001.northeurope.instances.azureml.ms\"\n         },\n         {\n           \"displayName\": \"Jupyter Lab\",\n           \"endpointUri\": \"https://testinstance001.northeurope.instances.azureml.ms/lab\"\n         },\n         {\n           \"displayName\": \"RStudio\",\n           \"endpointUri\": \"https://testinstance001-8787.northeurope.instances.azureml.ms\"\n         }\n       ],\n       \"connectivityEndpoints\": {\n         \"publicIpAddress\": \"20.67.162.176\",\n         \"privateIpAddress\": \"10.0.0.5\"\n       },\n       \"sshSettings\": {\n         \"sshPublicAccess\": \"Disabled\",\n         \"adminUserName\": \"azureuser\",\n         \"adminPublicKey\": null,\n         \"sshPort\": 4001\n       },\n       \"personalComputeInstanceSettings\": null,\n       \"subnet\": {\n         \"id\": null\n       },\n       \"errors\": []\n     },\n     \"status\": {\n       \"errors\": [],\n       \"creationTime\": \"2021-01-26T10:32:04.018428+00:00\",\n       \"createdBy\": {\n         \"userObjectId\": \"f1229dd6-67ce-4417-acec-a4b807064e62\",\n         \"userTenantId\": \"3b50229c-cd78-4588-9bcf-97b7629e2f0f\",\n         \"userName\": \"Bogacz Micha\\u0142 2 (STUD)\"\n       },\n       \"modifiedTime\": \"2021-01-26T10:35:20.756741+00:00\",\n       \"state\": \"Running\",\n       \"vmSize\": \"STANDARD_DS3_V2\"\n     }\n   }\n },\n AmlCompute(workspace=Workspace.create(name='azureml', subscription_id='2bf6a9f2-6624-4947-9b91-d49100c13f5c', resource_group='AZURE_AI'), name=traininstance002, id=/subscriptions/2bf6a9f2-6624-4947-9b91-d49100c13f5c/resourceGroups/AZURE_AI/providers/Microsoft.MachineLearningServices/workspaces/azureml/computes/traininstance002, type=AmlCompute, provisioning_state=Succeeded, location=northeurope, tags=None)]"
          },
          "metadata": {}
        }
      ],
      "execution_count": 11,
      "metadata": {
        "collapsed": true,
        "jupyter": {
          "source_hidden": false,
          "outputs_hidden": false
        },
        "nteract": {
          "transient": {
            "deleting": false
          }
        },
        "gather": {
          "logged": 1611668553144
        }
      }
    },
    {
      "cell_type": "markdown",
      "source": [
        "#### Traininstance"
      ],
      "metadata": {
        "nteract": {
          "transient": {
            "deleting": false
          }
        }
      }
    },
    {
      "cell_type": "code",
      "source": [
        "# Type the name of you cluster\r\n",
        "amlcompute_cluster_name = \"traininstance002\"\r\n",
        "\r\n",
        "found = False\r\n",
        "# Check if this compute target already exists in the workspace.\r\n",
        "\r\n",
        "cts = work_space.compute_targets\r\n",
        "if amlcompute_cluster_name in cts and cts[amlcompute_cluster_name].type == 'AmlCompute':\r\n",
        "     found = True\r\n",
        "     print('Found existing training cluster.')\r\n",
        "     # Get existing cluster\r\n",
        "     aml_remote_compute = cts[amlcompute_cluster_name]\r\n",
        "    \r\n",
        "print('Checking cluster status...')\r\n",
        "aml_remote_compute.wait_for_completion(show_output = True, min_node_count = 0, timeout_in_minutes = 20)"
      ],
      "outputs": [
        {
          "output_type": "stream",
          "name": "stdout",
          "text": [
            "Found existing training cluster.\n",
            "Checking cluster status...\n",
            "Succeeded\n",
            "AmlCompute wait for completion finished\n",
            "\n",
            "Minimum number of nodes requested have been provisioned\n"
          ]
        }
      ],
      "execution_count": 12,
      "metadata": {
        "collapsed": true,
        "jupyter": {
          "source_hidden": false,
          "outputs_hidden": false
        },
        "nteract": {
          "transient": {
            "deleting": false
          }
        },
        "gather": {
          "logged": 1611668555171
        }
      }
    },
    {
      "cell_type": "code",
      "source": [
        "# additional details info\r\n",
        "aml_remote_compute.get_status().serialize()"
      ],
      "outputs": [
        {
          "output_type": "execute_result",
          "execution_count": 13,
          "data": {
            "text/plain": "{'currentNodeCount': 1,\n 'targetNodeCount': 1,\n 'nodeStateCounts': {'preparingNodeCount': 0,\n  'runningNodeCount': 0,\n  'idleNodeCount': 1,\n  'unusableNodeCount': 0,\n  'leavingNodeCount': 0,\n  'preemptedNodeCount': 0},\n 'allocationState': 'Steady',\n 'allocationStateTransitionTime': '2021-01-26T12:18:36.053000+00:00',\n 'errors': None,\n 'creationTime': '2021-01-26T10:36:55.007345+00:00',\n 'modifiedTime': '2021-01-26T10:37:10.757331+00:00',\n 'provisioningState': 'Succeeded',\n 'provisioningStateTransitionTime': None,\n 'scaleSettings': {'minNodeCount': 0,\n  'maxNodeCount': 5,\n  'nodeIdleTimeBeforeScaleDown': 'PT1200S'},\n 'vmPriority': 'Dedicated',\n 'vmSize': 'STANDARD_DS3_V2'}"
          },
          "metadata": {}
        }
      ],
      "execution_count": 13,
      "metadata": {
        "collapsed": true,
        "jupyter": {
          "source_hidden": false,
          "outputs_hidden": false
        },
        "nteract": {
          "transient": {
            "deleting": false
          }
        },
        "gather": {
          "logged": 1611668558988
        }
      }
    },
    {
      "cell_type": "markdown",
      "source": [
        "Both training and testing instances are showing correctly. Now we can move to the training part."
      ],
      "metadata": {
        "nteract": {
          "transient": {
            "deleting": false
          }
        }
      }
    },
    {
      "cell_type": "markdown",
      "source": [
        "### Training"
      ],
      "metadata": {
        "nteract": {
          "transient": {
            "deleting": false
          }
        }
      }
    },
    {
      "cell_type": "code",
      "source": [
        "from azureml.train import automl"
      ],
      "outputs": [],
      "execution_count": 14,
      "metadata": {
        "collapsed": true,
        "jupyter": {
          "source_hidden": false,
          "outputs_hidden": false
        },
        "nteract": {
          "transient": {
            "deleting": false
          }
        },
        "gather": {
          "logged": 1611668564879
        }
      }
    },
    {
      "cell_type": "markdown",
      "source": [
        "In UI one was able to choose from veriaty of different metrics, all will be listed below. I think i will go down the easy and simlest root, and for trining ill choose **normalized_root_mean_squared_error**"
      ],
      "metadata": {
        "nteract": {
          "transient": {
            "deleting": false
          }
        }
      }
    },
    {
      "cell_type": "code",
      "source": [
        "automl.utilities.get_primary_metrics('regression')"
      ],
      "outputs": [
        {
          "output_type": "execute_result",
          "execution_count": 15,
          "data": {
            "text/plain": "['r2_score',\n 'normalized_mean_absolute_error',\n 'spearman_correlation',\n 'normalized_root_mean_squared_error']"
          },
          "metadata": {}
        }
      ],
      "execution_count": 15,
      "metadata": {
        "collapsed": true,
        "jupyter": {
          "source_hidden": false,
          "outputs_hidden": false
        },
        "nteract": {
          "transient": {
            "deleting": false
          }
        },
        "gather": {
          "logged": 1611668566976
        }
      }
    },
    {
      "cell_type": "markdown",
      "source": [
        "#### Create model\r\n",
        "Again most of the code was coppied either from the LAB code, or from some tutorials. The exact parameters of functions can be found in https://docs.microsoft.com/en-gb/azure/machine-learning/"
      ],
      "metadata": {
        "nteract": {
          "transient": {
            "deleting": false
          }
        }
      }
    },
    {
      "cell_type": "code",
      "source": [
        "import logging\r\n",
        "import os\r\n",
        "from azureml.train.automl import AutoMLConfig\r\n",
        "\r\n",
        "project_folder = './automl'\r\n",
        "os.makedirs(project_folder, exist_ok=True)\r\n",
        "\r\n",
        "automl_config = AutoMLConfig(compute_target=aml_remote_compute,\r\n",
        "                             task='regression',\r\n",
        "                             primary_metric='spearman_correlation',\r\n",
        "                             experiment_timeout_minutes=30,                            \r\n",
        "                             training_data=train_ds,\r\n",
        "                             label_column_name='price',\r\n",
        "                             n_cross_validations=5,\r\n",
        "                             enable_early_stopping=True,\r\n",
        "                             featurization='auto',\r\n",
        "                             debug_log='automated_ml_errors.log',\r\n",
        "                             verbosity=logging.INFO,\r\n",
        "                             path=project_folder\r\n",
        "                             )"
      ],
      "outputs": [],
      "execution_count": 28,
      "metadata": {
        "collapsed": true,
        "jupyter": {
          "source_hidden": false,
          "outputs_hidden": false
        },
        "nteract": {
          "transient": {
            "deleting": false
          }
        },
        "gather": {
          "logged": 1611672657201
        }
      }
    },
    {
      "cell_type": "markdown",
      "source": [
        "AML model was created succesfully, will see further if it works correctly."
      ],
      "metadata": {
        "nteract": {
          "transient": {
            "deleting": false
          }
        }
      }
    },
    {
      "cell_type": "code",
      "source": [
        "from azureml.core import Experiment\r\n",
        "from datetime import datetime\r\n",
        "\r\n",
        "now = datetime.now()\r\n",
        "time_string = now.strftime(\"%m-%d-%Y-%H\")\r\n",
        "experiment_name = \"regression-automl-1-{0}\".format(time_string)\r\n",
        "print(experiment_name)\r\n",
        "\r\n",
        "experiment = Experiment(workspace=work_space, name=experiment_name)\r\n",
        "\r\n",
        "import time\r\n",
        "start_time = time.time()\r\n",
        "            \r\n",
        "run = experiment.submit(automl_config, show_output=True)\r\n",
        "\r\n",
        "print('Manual run timing: --- %s seconds needed for running the whole Remote AutoML Experiment ---' % (time.time() - start_time))"
      ],
      "outputs": [
        {
          "output_type": "stream",
          "name": "stdout",
          "text": [
            "regression-automl-1-01-26-2021-14\n",
            "Running on remote.\n",
            "No run_configuration provided, running on traininstance002 with default configuration\n",
            "Running on remote compute: traininstance002\n",
            "Parent Run ID: AutoML_4d23aadf-4acb-475a-a3d7-77afc18dfc85\n",
            "\n",
            "Current status: FeaturesGeneration. Generating features for the dataset.\n",
            "Current status: DatasetCrossValidationSplit. Generating individually featurized CV splits.\n",
            "Current status: ModelSelection. Beginning model selection.\n",
            "\n",
            "****************************************************************************************************\n",
            "DATA GUARDRAILS: \n",
            "\n",
            "TYPE:         Missing feature values imputation\n",
            "STATUS:       PASSED\n",
            "DESCRIPTION:  No feature missing values were detected in the training data.\n",
            "              Learn more about missing value imputation: https://aka.ms/AutomatedMLFeaturization\n",
            "\n",
            "****************************************************************************************************\n",
            "\n",
            "TYPE:         High cardinality feature detection\n",
            "STATUS:       PASSED\n",
            "DESCRIPTION:  Your inputs were analyzed, and no high cardinality features were detected.\n",
            "              Learn more about high cardinality feature handling: https://aka.ms/AutomatedMLFeaturization\n",
            "\n",
            "****************************************************************************************************\n",
            "\n",
            "****************************************************************************************************\n",
            "ITERATION: The iteration being evaluated.\n",
            "PIPELINE: A summary description of the pipeline being evaluated.\n",
            "DURATION: Time taken for the current iteration.\n",
            "METRIC: The result of computing score on the fitted pipeline.\n",
            "BEST: The best observed score thus far.\n",
            "****************************************************************************************************\n",
            "\n",
            " ITERATION   PIPELINE                                       DURATION      METRIC      BEST\n",
            "         0   MaxAbsScaler LightGBM                          0:00:48       0.9454    0.9454\n",
            "         1   MaxAbsScaler XGBoostRegressor                  0:00:51       0.9258    0.9454\n",
            "         2   MaxAbsScaler RandomForest                      0:00:51       0.8965    0.9454\n",
            "         3   StandardScalerWrapper RandomForest             0:03:04       0.9005    0.9454\n",
            "         4   SparseNormalizer XGBoostRegressor              0:00:51       0.7703    0.9454\n",
            "         5   StandardScalerWrapper XGBoostRegressor         0:01:19       0.9407    0.9454\n",
            "         6   MaxAbsScaler RandomForest                      0:00:57       0.9140    0.9454\n",
            "         7   MaxAbsScaler RandomForest                      0:01:13       0.9261    0.9454\n",
            "         8   StandardScalerWrapper ElasticNet               0:00:54       0.8578    0.9454\n",
            "         9   StandardScalerWrapper DecisionTree             0:00:45       0.8959    0.9454\n",
            "        10   StandardScalerWrapper RandomForest             0:01:00       0.8962    0.9454\n",
            "        11   MaxAbsScaler ExtremeRandomTrees                0:01:37       0.9194    0.9454\n",
            "        12   MaxAbsScaler RandomForest                      0:00:51       0.8730    0.9454\n",
            "        13   MaxAbsScaler ExtremeRandomTrees                0:00:48       0.8660    0.9454\n",
            "        14   StandardScalerWrapper XGBoostRegressor         0:00:51       0.8554    0.9454\n",
            "        15   StandardScalerWrapper XGBoostRegressor         0:01:09       0.9424    0.9454\n",
            "        16   MaxAbsScaler GradientBoosting                  0:01:20       0.9111    0.9454\n",
            "        17   MaxAbsScaler ElasticNet                        0:01:19       0.8547    0.9454\n",
            "        18   StandardScalerWrapper XGBoostRegressor         0:01:00       0.9421    0.9454\n",
            "        19   StandardScalerWrapper ExtremeRandomTrees       0:00:51       0.9027    0.9454\n",
            "        20   MaxAbsScaler RandomForest                      0:00:48       0.8560    0.9454\n",
            "        21   StandardScalerWrapper ElasticNet               0:00:52       0.8582    0.9454\n",
            "        22   StandardScalerWrapper GradientBoosting         0:00:57       0.9215    0.9454\n",
            "        23    VotingEnsemble                                0:01:17       0.9470    0.9470\n",
            "        24    StackEnsemble                                 0:01:15       0.9459    0.9470\n",
            "Manual run timing: --- 2500.489114999771 seconds needed for running the whole Remote AutoML Experiment ---\n"
          ]
        }
      ],
      "execution_count": 29,
      "metadata": {
        "collapsed": true,
        "jupyter": {
          "source_hidden": false,
          "outputs_hidden": false
        },
        "nteract": {
          "transient": {
            "deleting": false
          }
        },
        "gather": {
          "logged": 1611675163366
        }
      }
    },
    {
      "cell_type": "markdown",
      "source": [
        "### Results\r\n",
        "One can explore the run details in the exporation tab"
      ],
      "metadata": {
        "nteract": {
          "transient": {
            "deleting": false
          }
        }
      }
    },
    {
      "cell_type": "code",
      "source": [
        "from azureml.widgets import RunDetails\r\n",
        "RunDetails(run).show()"
      ],
      "outputs": [
        {
          "output_type": "display_data",
          "data": {
            "text/plain": "_AutoMLWidget(widget_settings={'childWidgetDisplay': 'popup', 'send_telemetry': False, 'log_level': 'INFO', 's…",
            "application/vnd.jupyter.widget-view+json": {
              "version_major": 2,
              "version_minor": 0,
              "model_id": "f1f64a61a4354f99836cc80dbee2f155"
            }
          },
          "metadata": {}
        },
        {
          "output_type": "display_data",
          "data": {
            "application/aml.mini.widget.v1": "{\"status\": \"Completed\", \"workbench_run_details_uri\": \"https://ml.azure.com/experiments/regression-automl-1-01-26-2021-14/runs/AutoML_4d23aadf-4acb-475a-a3d7-77afc18dfc85?wsid=/subscriptions/2bf6a9f2-6624-4947-9b91-d49100c13f5c/resourcegroups/AZURE_AI/workspaces/azureml\", \"run_id\": \"AutoML_4d23aadf-4acb-475a-a3d7-77afc18dfc85\", \"run_properties\": {\"run_id\": \"AutoML_4d23aadf-4acb-475a-a3d7-77afc18dfc85\", \"created_utc\": \"2021-01-26T14:51:06.624348Z\", \"properties\": {\"num_iterations\": \"1000\", \"training_type\": \"TrainFull\", \"acquisition_function\": \"EI\", \"primary_metric\": \"spearman_correlation\", \"train_split\": \"0\", \"acquisition_parameter\": \"0\", \"num_cross_validation\": \"5\", \"target\": \"traininstance002\", \"AMLSettingsJsonString\": \"{\\\"path\\\":null,\\\"name\\\":\\\"regression-automl-1-01-26-2021-14\\\",\\\"subscription_id\\\":\\\"2bf6a9f2-6624-4947-9b91-d49100c13f5c\\\",\\\"resource_group\\\":\\\"AZURE_AI\\\",\\\"workspace_name\\\":\\\"azureml\\\",\\\"region\\\":\\\"northeurope\\\",\\\"compute_target\\\":\\\"traininstance002\\\",\\\"spark_service\\\":null,\\\"azure_service\\\":\\\"remote\\\",\\\"many_models\\\":false,\\\"pipeline_fetch_max_batch_size\\\":1,\\\"iterations\\\":1000,\\\"primary_metric\\\":\\\"spearman_correlation\\\",\\\"task_type\\\":\\\"regression\\\",\\\"data_script\\\":null,\\\"validation_size\\\":0.0,\\\"n_cross_validations\\\":5,\\\"y_min\\\":null,\\\"y_max\\\":null,\\\"num_classes\\\":null,\\\"featurization\\\":\\\"auto\\\",\\\"_ignore_package_version_incompatibilities\\\":false,\\\"is_timeseries\\\":false,\\\"max_cores_per_iteration\\\":1,\\\"max_concurrent_iterations\\\":1,\\\"iteration_timeout_minutes\\\":null,\\\"mem_in_mb\\\":null,\\\"enforce_time_on_windows\\\":false,\\\"experiment_timeout_minutes\\\":30,\\\"experiment_exit_score\\\":null,\\\"whitelist_models\\\":null,\\\"blacklist_algos\\\":[\\\"TensorFlowDNN\\\",\\\"TensorFlowLinearRegressor\\\"],\\\"supported_models\\\":[\\\"ExtremeRandomTrees\\\",\\\"TensorFlowLinearRegressor\\\",\\\"ElasticNet\\\",\\\"TensorFlowDNN\\\",\\\"LightGBM\\\",\\\"RandomForest\\\",\\\"FastLinearRegressor\\\",\\\"DecisionTree\\\",\\\"OnlineGradientDescentRegressor\\\",\\\"GradientBoosting\\\",\\\"XGBoostRegressor\\\",\\\"LassoLars\\\",\\\"KNN\\\",\\\"SGD\\\"],\\\"auto_blacklist\\\":true,\\\"blacklist_samples_reached\\\":false,\\\"exclude_nan_labels\\\":true,\\\"verbosity\\\":20,\\\"_debug_log\\\":\\\"azureml_automl.log\\\",\\\"show_warnings\\\":false,\\\"model_explainability\\\":true,\\\"service_url\\\":null,\\\"sdk_url\\\":null,\\\"sdk_packages\\\":null,\\\"enable_onnx_compatible_models\\\":false,\\\"enable_split_onnx_featurizer_estimator_models\\\":false,\\\"vm_type\\\":\\\"STANDARD_DS3_V2\\\",\\\"telemetry_verbosity\\\":20,\\\"send_telemetry\\\":true,\\\"enable_dnn\\\":false,\\\"scenario\\\":\\\"SDK-1.13.0\\\",\\\"environment_label\\\":null,\\\"force_text_dnn\\\":false,\\\"enable_feature_sweeping\\\":true,\\\"enable_early_stopping\\\":true,\\\"early_stopping_n_iters\\\":10,\\\"metrics\\\":null,\\\"enable_ensembling\\\":true,\\\"enable_stack_ensembling\\\":true,\\\"ensemble_iterations\\\":15,\\\"enable_tf\\\":false,\\\"enable_subsampling\\\":null,\\\"subsample_seed\\\":null,\\\"enable_nimbusml\\\":false,\\\"enable_streaming\\\":false,\\\"force_streaming\\\":false,\\\"track_child_runs\\\":true,\\\"allowed_private_models\\\":[],\\\"label_column_name\\\":\\\"price\\\",\\\"weight_column_name\\\":null,\\\"cv_split_column_names\\\":null,\\\"enable_local_managed\\\":false,\\\"_local_managed_run_id\\\":null,\\\"cost_mode\\\":1,\\\"lag_length\\\":0,\\\"metric_operation\\\":\\\"maximize\\\",\\\"preprocess\\\":true}\", \"DataPrepJsonString\": \"{\\\\\\\"training_data\\\\\\\": \\\\\\\"{\\\\\\\\\\\\\\\"blocks\\\\\\\\\\\\\\\": [{\\\\\\\\\\\\\\\"id\\\\\\\\\\\\\\\": \\\\\\\\\\\\\\\"14086e28-ea5f-4698-ae19-aa6b2ff9bc5b\\\\\\\\\\\\\\\", \\\\\\\\\\\\\\\"type\\\\\\\\\\\\\\\": \\\\\\\\\\\\\\\"Microsoft.DPrep.GetDatastoreFilesBlock\\\\\\\\\\\\\\\", \\\\\\\\\\\\\\\"arguments\\\\\\\\\\\\\\\": {\\\\\\\\\\\\\\\"datastores\\\\\\\\\\\\\\\": [{\\\\\\\\\\\\\\\"datastoreName\\\\\\\\\\\\\\\": \\\\\\\\\\\\\\\"workspaceblobstore\\\\\\\\\\\\\\\", \\\\\\\\\\\\\\\"path\\\\\\\\\\\\\\\": \\\\\\\\\\\\\\\"UI/01-26-2021_105808_UTC/housing_adv.csv\\\\\\\\\\\\\\\", \\\\\\\\\\\\\\\"resourceGroup\\\\\\\\\\\\\\\": \\\\\\\\\\\\\\\"AZURE_AI\\\\\\\\\\\\\\\", \\\\\\\\\\\\\\\"subscription\\\\\\\\\\\\\\\": \\\\\\\\\\\\\\\"2bf6a9f2-6624-4947-9b91-d49100c13f5c\\\\\\\\\\\\\\\", \\\\\\\\\\\\\\\"workspaceName\\\\\\\\\\\\\\\": \\\\\\\\\\\\\\\"azureml\\\\\\\\\\\\\\\"}]}, \\\\\\\\\\\\\\\"localData\\\\\\\\\\\\\\\": {}, \\\\\\\\\\\\\\\"isEnabled\\\\\\\\\\\\\\\": true, \\\\\\\\\\\\\\\"name\\\\\\\\\\\\\\\": null, \\\\\\\\\\\\\\\"annotation\\\\\\\\\\\\\\\": null}, {\\\\\\\\\\\\\\\"id\\\\\\\\\\\\\\\": \\\\\\\\\\\\\\\"0aac933b-f85e-4bdf-a389-b4723901a889\\\\\\\\\\\\\\\", \\\\\\\\\\\\\\\"type\\\\\\\\\\\\\\\": \\\\\\\\\\\\\\\"Microsoft.DPrep.ParseDelimitedBlock\\\\\\\\\\\\\\\", \\\\\\\\\\\\\\\"arguments\\\\\\\\\\\\\\\": {\\\\\\\\\\\\\\\"columnHeadersMode\\\\\\\\\\\\\\\": 2, \\\\\\\\\\\\\\\"fileEncoding\\\\\\\\\\\\\\\": 0, \\\\\\\\\\\\\\\"handleQuotedLineBreaks\\\\\\\\\\\\\\\": false, \\\\\\\\\\\\\\\"preview\\\\\\\\\\\\\\\": false, \\\\\\\\\\\\\\\"separator\\\\\\\\\\\\\\\": \\\\\\\\\\\\\\\",\\\\\\\\\\\\\\\", \\\\\\\\\\\\\\\"skipRows\\\\\\\\\\\\\\\": 0, \\\\\\\\\\\\\\\"skipRowsMode\\\\\\\\\\\\\\\": 0}, \\\\\\\\\\\\\\\"localData\\\\\\\\\\\\\\\": {}, \\\\\\\\\\\\\\\"isEnabled\\\\\\\\\\\\\\\": true, \\\\\\\\\\\\\\\"name\\\\\\\\\\\\\\\": null, \\\\\\\\\\\\\\\"annotation\\\\\\\\\\\\\\\": null}, {\\\\\\\\\\\\\\\"id\\\\\\\\\\\\\\\": \\\\\\\\\\\\\\\"2fe6249c-0a6e-45a8-9591-e9866a349e72\\\\\\\\\\\\\\\", \\\\\\\\\\\\\\\"type\\\\\\\\\\\\\\\": \\\\\\\\\\\\\\\"Microsoft.DPrep.DropColumnsBlock\\\\\\\\\\\\\\\", \\\\\\\\\\\\\\\"arguments\\\\\\\\\\\\\\\": {\\\\\\\\\\\\\\\"columns\\\\\\\\\\\\\\\": {\\\\\\\\\\\\\\\"type\\\\\\\\\\\\\\\": 0, \\\\\\\\\\\\\\\"details\\\\\\\\\\\\\\\": {\\\\\\\\\\\\\\\"selectedColumns\\\\\\\\\\\\\\\": [\\\\\\\\\\\\\\\"Path\\\\\\\\\\\\\\\"]}}}, \\\\\\\\\\\\\\\"localData\\\\\\\\\\\\\\\": {}, \\\\\\\\\\\\\\\"isEnabled\\\\\\\\\\\\\\\": true, \\\\\\\\\\\\\\\"name\\\\\\\\\\\\\\\": null, \\\\\\\\\\\\\\\"annotation\\\\\\\\\\\\\\\": null}, {\\\\\\\\\\\\\\\"id\\\\\\\\\\\\\\\": \\\\\\\\\\\\\\\"91edd0c5-9f04-4f28-92cd-857724f31d5f\\\\\\\\\\\\\\\", \\\\\\\\\\\\\\\"type\\\\\\\\\\\\\\\": \\\\\\\\\\\\\\\"Microsoft.DPrep.SetColumnTypesBlock\\\\\\\\\\\\\\\", \\\\\\\\\\\\\\\"arguments\\\\\\\\\\\\\\\": {\\\\\\\\\\\\\\\"columnConversion\\\\\\\\\\\\\\\": [{\\\\\\\\\\\\\\\"column\\\\\\\\\\\\\\\": {\\\\\\\\\\\\\\\"type\\\\\\\\\\\\\\\": 2, \\\\\\\\\\\\\\\"details\\\\\\\\\\\\\\\": {\\\\\\\\\\\\\\\"selectedColumn\\\\\\\\\\\\\\\": \\\\\\\\\\\\\\\"Path\\\\\\\\\\\\\\\"}}, \\\\\\\\\\\\\\\"typeProperty\\\\\\\\\\\\\\\": 0}, {\\\\\\\\\\\\\\\"column\\\\\\\\\\\\\\\": {\\\\\\\\\\\\\\\"type\\\\\\\\\\\\\\\": 2, \\\\\\\\\\\\\\\"details\\\\\\\\\\\\\\\": {\\\\\\\\\\\\\\\"selectedColumn\\\\\\\\\\\\\\\": \\\\\\\\\\\\\\\"price\\\\\\\\\\\\\\\"}}, \\\\\\\\\\\\\\\"typeProperty\\\\\\\\\\\\\\\": 3}, {\\\\\\\\\\\\\\\"column\\\\\\\\\\\\\\\": {\\\\\\\\\\\\\\\"type\\\\\\\\\\\\\\\": 2, \\\\\\\\\\\\\\\"details\\\\\\\\\\\\\\\": {\\\\\\\\\\\\\\\"selectedColumn\\\\\\\\\\\\\\\": \\\\\\\\\\\\\\\"bedrooms\\\\\\\\\\\\\\\"}}, \\\\\\\\\\\\\\\"typeProperty\\\\\\\\\\\\\\\": 3}, {\\\\\\\\\\\\\\\"column\\\\\\\\\\\\\\\": {\\\\\\\\\\\\\\\"type\\\\\\\\\\\\\\\": 2, \\\\\\\\\\\\\\\"details\\\\\\\\\\\\\\\": {\\\\\\\\\\\\\\\"selectedColumn\\\\\\\\\\\\\\\": \\\\\\\\\\\\\\\"bathrooms\\\\\\\\\\\\\\\"}}, \\\\\\\\\\\\\\\"typeProperty\\\\\\\\\\\\\\\": 3}, {\\\\\\\\\\\\\\\"column\\\\\\\\\\\\\\\": {\\\\\\\\\\\\\\\"type\\\\\\\\\\\\\\\": 2, \\\\\\\\\\\\\\\"details\\\\\\\\\\\\\\\": {\\\\\\\\\\\\\\\"selectedColumn\\\\\\\\\\\\\\\": \\\\\\\\\\\\\\\"sqft_living\\\\\\\\\\\\\\\"}}, \\\\\\\\\\\\\\\"typeProperty\\\\\\\\\\\\\\\": 3}, {\\\\\\\\\\\\\\\"column\\\\\\\\\\\\\\\": {\\\\\\\\\\\\\\\"type\\\\\\\\\\\\\\\": 2, \\\\\\\\\\\\\\\"details\\\\\\\\\\\\\\\": {\\\\\\\\\\\\\\\"selectedColumn\\\\\\\\\\\\\\\": \\\\\\\\\\\\\\\"sqft_lot\\\\\\\\\\\\\\\"}}, \\\\\\\\\\\\\\\"typeProperty\\\\\\\\\\\\\\\": 2}, {\\\\\\\\\\\\\\\"column\\\\\\\\\\\\\\\": {\\\\\\\\\\\\\\\"type\\\\\\\\\\\\\\\": 2, \\\\\\\\\\\\\\\"details\\\\\\\\\\\\\\\": {\\\\\\\\\\\\\\\"selectedColumn\\\\\\\\\\\\\\\": \\\\\\\\\\\\\\\"floors\\\\\\\\\\\\\\\"}}, \\\\\\\\\\\\\\\"typeProperty\\\\\\\\\\\\\\\": 3}, {\\\\\\\\\\\\\\\"column\\\\\\\\\\\\\\\": {\\\\\\\\\\\\\\\"type\\\\\\\\\\\\\\\": 2, \\\\\\\\\\\\\\\"details\\\\\\\\\\\\\\\": {\\\\\\\\\\\\\\\"selectedColumn\\\\\\\\\\\\\\\": \\\\\\\\\\\\\\\"waterfront\\\\\\\\\\\\\\\"}}, \\\\\\\\\\\\\\\"typeProperty\\\\\\\\\\\\\\\": 2}, {\\\\\\\\\\\\\\\"column\\\\\\\\\\\\\\\": {\\\\\\\\\\\\\\\"type\\\\\\\\\\\\\\\": 2, \\\\\\\\\\\\\\\"details\\\\\\\\\\\\\\\": {\\\\\\\\\\\\\\\"selectedColumn\\\\\\\\\\\\\\\": \\\\\\\\\\\\\\\"view\\\\\\\\\\\\\\\"}}, \\\\\\\\\\\\\\\"typeProperty\\\\\\\\\\\\\\\": 2}, {\\\\\\\\\\\\\\\"column\\\\\\\\\\\\\\\": {\\\\\\\\\\\\\\\"type\\\\\\\\\\\\\\\": 2, \\\\\\\\\\\\\\\"details\\\\\\\\\\\\\\\": {\\\\\\\\\\\\\\\"selectedColumn\\\\\\\\\\\\\\\": \\\\\\\\\\\\\\\"condition\\\\\\\\\\\\\\\"}}, \\\\\\\\\\\\\\\"typeProperty\\\\\\\\\\\\\\\": 2}, {\\\\\\\\\\\\\\\"column\\\\\\\\\\\\\\\": {\\\\\\\\\\\\\\\"type\\\\\\\\\\\\\\\": 2, \\\\\\\\\\\\\\\"details\\\\\\\\\\\\\\\": {\\\\\\\\\\\\\\\"selectedColumn\\\\\\\\\\\\\\\": \\\\\\\\\\\\\\\"grade\\\\\\\\\\\\\\\"}}, \\\\\\\\\\\\\\\"typeProperty\\\\\\\\\\\\\\\": 2}, {\\\\\\\\\\\\\\\"column\\\\\\\\\\\\\\\": {\\\\\\\\\\\\\\\"type\\\\\\\\\\\\\\\": 2, \\\\\\\\\\\\\\\"details\\\\\\\\\\\\\\\": {\\\\\\\\\\\\\\\"selectedColumn\\\\\\\\\\\\\\\": \\\\\\\\\\\\\\\"sqft_above\\\\\\\\\\\\\\\"}}, \\\\\\\\\\\\\\\"typeProperty\\\\\\\\\\\\\\\": 2}, {\\\\\\\\\\\\\\\"column\\\\\\\\\\\\\\\": {\\\\\\\\\\\\\\\"type\\\\\\\\\\\\\\\": 2, \\\\\\\\\\\\\\\"details\\\\\\\\\\\\\\\": {\\\\\\\\\\\\\\\"selectedColumn\\\\\\\\\\\\\\\": \\\\\\\\\\\\\\\"sqft_basement\\\\\\\\\\\\\\\"}}, \\\\\\\\\\\\\\\"typeProperty\\\\\\\\\\\\\\\": 2}, {\\\\\\\\\\\\\\\"column\\\\\\\\\\\\\\\": {\\\\\\\\\\\\\\\"type\\\\\\\\\\\\\\\": 2, \\\\\\\\\\\\\\\"details\\\\\\\\\\\\\\\": {\\\\\\\\\\\\\\\"selectedColumn\\\\\\\\\\\\\\\": \\\\\\\\\\\\\\\"yr_built\\\\\\\\\\\\\\\"}}, \\\\\\\\\\\\\\\"typeProperty\\\\\\\\\\\\\\\": 2}, {\\\\\\\\\\\\\\\"column\\\\\\\\\\\\\\\": {\\\\\\\\\\\\\\\"type\\\\\\\\\\\\\\\": 2, \\\\\\\\\\\\\\\"details\\\\\\\\\\\\\\\": {\\\\\\\\\\\\\\\"selectedColumn\\\\\\\\\\\\\\\": \\\\\\\\\\\\\\\"yr_renovated\\\\\\\\\\\\\\\"}}, \\\\\\\\\\\\\\\"typeProperty\\\\\\\\\\\\\\\": 2}, {\\\\\\\\\\\\\\\"column\\\\\\\\\\\\\\\": {\\\\\\\\\\\\\\\"type\\\\\\\\\\\\\\\": 2, \\\\\\\\\\\\\\\"details\\\\\\\\\\\\\\\": {\\\\\\\\\\\\\\\"selectedColumn\\\\\\\\\\\\\\\": \\\\\\\\\\\\\\\"lat\\\\\\\\\\\\\\\"}}, \\\\\\\\\\\\\\\"typeProperty\\\\\\\\\\\\\\\": 3}, {\\\\\\\\\\\\\\\"column\\\\\\\\\\\\\\\": {\\\\\\\\\\\\\\\"type\\\\\\\\\\\\\\\": 2, \\\\\\\\\\\\\\\"details\\\\\\\\\\\\\\\": {\\\\\\\\\\\\\\\"selectedColumn\\\\\\\\\\\\\\\": \\\\\\\\\\\\\\\"long\\\\\\\\\\\\\\\"}}, \\\\\\\\\\\\\\\"typeProperty\\\\\\\\\\\\\\\": 3}, {\\\\\\\\\\\\\\\"column\\\\\\\\\\\\\\\": {\\\\\\\\\\\\\\\"type\\\\\\\\\\\\\\\": 2, \\\\\\\\\\\\\\\"details\\\\\\\\\\\\\\\": {\\\\\\\\\\\\\\\"selectedColumn\\\\\\\\\\\\\\\": \\\\\\\\\\\\\\\"sqft_living15\\\\\\\\\\\\\\\"}}, \\\\\\\\\\\\\\\"typeProperty\\\\\\\\\\\\\\\": 3}, {\\\\\\\\\\\\\\\"column\\\\\\\\\\\\\\\": {\\\\\\\\\\\\\\\"type\\\\\\\\\\\\\\\": 2, \\\\\\\\\\\\\\\"details\\\\\\\\\\\\\\\": {\\\\\\\\\\\\\\\"selectedColumn\\\\\\\\\\\\\\\": \\\\\\\\\\\\\\\"sqft_lot15\\\\\\\\\\\\\\\"}}, \\\\\\\\\\\\\\\"typeProperty\\\\\\\\\\\\\\\": 3}, {\\\\\\\\\\\\\\\"column\\\\\\\\\\\\\\\": {\\\\\\\\\\\\\\\"type\\\\\\\\\\\\\\\": 2, \\\\\\\\\\\\\\\"details\\\\\\\\\\\\\\\": {\\\\\\\\\\\\\\\"selectedColumn\\\\\\\\\\\\\\\": \\\\\\\\\\\\\\\"month\\\\\\\\\\\\\\\"}}, \\\\\\\\\\\\\\\"typeProperty\\\\\\\\\\\\\\\": 2}, {\\\\\\\\\\\\\\\"column\\\\\\\\\\\\\\\": {\\\\\\\\\\\\\\\"type\\\\\\\\\\\\\\\": 2, \\\\\\\\\\\\\\\"details\\\\\\\\\\\\\\\": {\\\\\\\\\\\\\\\"selectedColumn\\\\\\\\\\\\\\\": \\\\\\\\\\\\\\\"year\\\\\\\\\\\\\\\"}}, \\\\\\\\\\\\\\\"typeProperty\\\\\\\\\\\\\\\": 2}, {\\\\\\\\\\\\\\\"column\\\\\\\\\\\\\\\": {\\\\\\\\\\\\\\\"type\\\\\\\\\\\\\\\": 2, \\\\\\\\\\\\\\\"details\\\\\\\\\\\\\\\": {\\\\\\\\\\\\\\\"selectedColumn\\\\\\\\\\\\\\\": \\\\\\\\\\\\\\\"bedrooms_squared\\\\\\\\\\\\\\\"}}, \\\\\\\\\\\\\\\"typeProperty\\\\\\\\\\\\\\\": 3}, {\\\\\\\\\\\\\\\"column\\\\\\\\\\\\\\\": {\\\\\\\\\\\\\\\"type\\\\\\\\\\\\\\\": 2, \\\\\\\\\\\\\\\"details\\\\\\\\\\\\\\\": {\\\\\\\\\\\\\\\"selectedColumn\\\\\\\\\\\\\\\": \\\\\\\\\\\\\\\"bed_bath_rooms\\\\\\\\\\\\\\\"}}, \\\\\\\\\\\\\\\"typeProperty\\\\\\\\\\\\\\\": 3}, {\\\\\\\\\\\\\\\"column\\\\\\\\\\\\\\\": {\\\\\\\\\\\\\\\"type\\\\\\\\\\\\\\\": 2, \\\\\\\\\\\\\\\"details\\\\\\\\\\\\\\\": {\\\\\\\\\\\\\\\"selectedColumn\\\\\\\\\\\\\\\": \\\\\\\\\\\\\\\"log_sqft_living\\\\\\\\\\\\\\\"}}, \\\\\\\\\\\\\\\"typeProperty\\\\\\\\\\\\\\\": 3}, {\\\\\\\\\\\\\\\"column\\\\\\\\\\\\\\\": {\\\\\\\\\\\\\\\"type\\\\\\\\\\\\\\\": 2, \\\\\\\\\\\\\\\"details\\\\\\\\\\\\\\\": {\\\\\\\\\\\\\\\"selectedColumn\\\\\\\\\\\\\\\": \\\\\\\\\\\\\\\"sqft_rooms\\\\\\\\\\\\\\\"}}, \\\\\\\\\\\\\\\"typeProperty\\\\\\\\\\\\\\\": 3}, {\\\\\\\\\\\\\\\"column\\\\\\\\\\\\\\\": {\\\\\\\\\\\\\\\"type\\\\\\\\\\\\\\\": 2, \\\\\\\\\\\\\\\"details\\\\\\\\\\\\\\\": {\\\\\\\\\\\\\\\"selectedColumn\\\\\\\\\\\\\\\": \\\\\\\\\\\\\\\"condition_advanced\\\\\\\\\\\\\\\"}}, \\\\\\\\\\\\\\\"typeProperty\\\\\\\\\\\\\\\": 2}]}, \\\\\\\\\\\\\\\"localData\\\\\\\\\\\\\\\": {}, \\\\\\\\\\\\\\\"isEnabled\\\\\\\\\\\\\\\": true, \\\\\\\\\\\\\\\"name\\\\\\\\\\\\\\\": null, \\\\\\\\\\\\\\\"annotation\\\\\\\\\\\\\\\": null}, {\\\\\\\\\\\\\\\"id\\\\\\\\\\\\\\\": \\\\\\\\\\\\\\\"70c1f85d-3c6d-4dd7-866b-64e56178f36b\\\\\\\\\\\\\\\", \\\\\\\\\\\\\\\"type\\\\\\\\\\\\\\\": \\\\\\\\\\\\\\\"Microsoft.DPrep.TakeSampleBlock\\\\\\\\\\\\\\\", \\\\\\\\\\\\\\\"arguments\\\\\\\\\\\\\\\": {\\\\\\\\\\\\\\\"probability\\\\\\\\\\\\\\\": 0.7, \\\\\\\\\\\\\\\"probabilityLowerBound\\\\\\\\\\\\\\\": 0.0, \\\\\\\\\\\\\\\"seed\\\\\\\\\\\\\\\": 3837300239}, \\\\\\\\\\\\\\\"localData\\\\\\\\\\\\\\\": {}, \\\\\\\\\\\\\\\"isEnabled\\\\\\\\\\\\\\\": true, \\\\\\\\\\\\\\\"name\\\\\\\\\\\\\\\": null, \\\\\\\\\\\\\\\"annotation\\\\\\\\\\\\\\\": null}], \\\\\\\\\\\\\\\"inspectors\\\\\\\\\\\\\\\": [], \\\\\\\\\\\\\\\"meta\\\\\\\\\\\\\\\": {\\\\\\\\\\\\\\\"savedDatasetId\\\\\\\\\\\\\\\": \\\\\\\\\\\\\\\"5f4fec42-9fac-4e44-bdb6-8caeab53de33\\\\\\\\\\\\\\\", \\\\\\\\\\\\\\\"datasetType\\\\\\\\\\\\\\\": \\\\\\\\\\\\\\\"tabular\\\\\\\\\\\\\\\", \\\\\\\\\\\\\\\"subscriptionId\\\\\\\\\\\\\\\": \\\\\\\\\\\\\\\"2bf6a9f2-6624-4947-9b91-d49100c13f5c\\\\\\\\\\\\\\\", \\\\\\\\\\\\\\\"workspaceId\\\\\\\\\\\\\\\": \\\\\\\\\\\\\\\"6daed55f-7209-47c8-afe2-50b0953e2475\\\\\\\\\\\\\\\", \\\\\\\\\\\\\\\"workspaceLocation\\\\\\\\\\\\\\\": \\\\\\\\\\\\\\\"northeurope\\\\\\\\\\\\\\\"}}\\\\\\\", \\\\\\\"activities\\\\\\\": 0}\", \"EnableSubsampling\": null, \"runTemplate\": \"AutoML\", \"azureml.runsource\": \"automl\", \"display_task_type\": \"regression\", \"dependencies_versions\": \"{\\\"azureml-widgets\\\": \\\"1.20.0\\\", \\\"azureml-train\\\": \\\"1.21.0\\\", \\\"azureml-train-restclients-hyperdrive\\\": \\\"1.21.0\\\", \\\"azureml-train-core\\\": \\\"1.21.0\\\", \\\"azureml-train-automl\\\": \\\"1.20.0\\\", \\\"azureml-train-automl-runtime\\\": \\\"1.20.0\\\", \\\"azureml-train-automl-client\\\": \\\"1.21.0\\\", \\\"azureml-tensorboard\\\": \\\"1.20.0\\\", \\\"azureml-telemetry\\\": \\\"1.21.0\\\", \\\"azureml-sdk\\\": \\\"1.21.0\\\", \\\"azureml-samples\\\": \\\"0+unknown\\\", \\\"azureml-pipeline\\\": \\\"1.21.0\\\", \\\"azureml-pipeline-steps\\\": \\\"1.21.0\\\", \\\"azureml-pipeline-core\\\": \\\"1.21.0\\\", \\\"azureml-opendatasets\\\": \\\"1.20.0\\\", \\\"azureml-model-management-sdk\\\": \\\"1.0.1b6.post1\\\", \\\"azureml-mlflow\\\": \\\"1.20.0.post1\\\", \\\"azureml-interpret\\\": \\\"1.20.0\\\", \\\"azureml-explain-model\\\": \\\"1.20.0\\\", \\\"azureml-defaults\\\": \\\"1.20.0\\\", \\\"azureml-dataset-runtime\\\": \\\"1.21.0\\\", \\\"azureml-dataprep\\\": \\\"2.8.2\\\", \\\"azureml-dataprep-rslex\\\": \\\"1.6.0\\\", \\\"azureml-dataprep-native\\\": \\\"28.0.0\\\", \\\"azureml-datadrift\\\": \\\"1.20.0\\\", \\\"azureml-core\\\": \\\"1.21.0.post1\\\", \\\"azureml-contrib-services\\\": \\\"1.20.0\\\", \\\"azureml-contrib-server\\\": \\\"1.20.0\\\", \\\"azureml-contrib-reinforcementlearning\\\": \\\"1.20.0\\\", \\\"azureml-contrib-pipeline-steps\\\": \\\"1.20.0\\\", \\\"azureml-contrib-notebook\\\": \\\"1.20.0\\\", \\\"azureml-contrib-interpret\\\": \\\"1.20.0\\\", \\\"azureml-contrib-gbdt\\\": \\\"1.20.0\\\", \\\"azureml-contrib-fairness\\\": \\\"1.20.0\\\", \\\"azureml-contrib-dataset\\\": \\\"1.20.0\\\", \\\"azureml-cli-common\\\": \\\"1.20.0\\\", \\\"azureml-automl-runtime\\\": \\\"1.20.0\\\", \\\"azureml-automl-core\\\": \\\"1.21.0\\\", \\\"azureml-accel-models\\\": \\\"1.20.0\\\"}\", \"_aml_system_scenario_identification\": \"Remote.Parent\", \"ClientType\": \"SDK\", \"environment_cpu_name\": \"AzureML-AutoML\", \"environment_cpu_label\": \"prod\", \"environment_gpu_name\": \"AzureML-AutoML-GPU\", \"environment_gpu_label\": \"prod\", \"root_attribution\": \"automl\", \"attribution\": \"AutoML\", \"Orchestrator\": \"AutoML\", \"CancelUri\": \"https://northeurope.experiments.azureml.net/jasmine/v1.0/subscriptions/2bf6a9f2-6624-4947-9b91-d49100c13f5c/resourceGroups/AZURE_AI/providers/Microsoft.MachineLearningServices/workspaces/azureml/experimentids/d4eea9c8-a0ee-47c5-9141-2716b3dd2ab6/cancel/AutoML_4d23aadf-4acb-475a-a3d7-77afc18dfc85\", \"ClientSdkVersion\": \"1.20.0.post1\", \"snapshotId\": \"00000000-0000-0000-0000-000000000000\", \"SetupRunId\": \"AutoML_4d23aadf-4acb-475a-a3d7-77afc18dfc85_setup\", \"SetupRunContainerId\": \"dcid.AutoML_4d23aadf-4acb-475a-a3d7-77afc18dfc85_setup\", \"FeaturizationRunJsonPath\": \"featurizer_container.json\", \"FeaturizationRunId\": \"AutoML_4d23aadf-4acb-475a-a3d7-77afc18dfc85_featurize\", \"ProblemInfoJsonString\": \"{\\\"dataset_num_categorical\\\": 0, \\\"is_sparse\\\": true, \\\"subsampling\\\": false, \\\"dataset_classes\\\": 3265, \\\"dataset_features\\\": 53, \\\"dataset_samples\\\": 15149, \\\"single_frequency_class_detected\\\": false}\", \"ModelExplainRunId\": \"AutoML_4d23aadf-4acb-475a-a3d7-77afc18dfc85_ModelExplain\"}, \"tags\": {\"model_explain_run\": \"best_run\", \"_aml_system_azureml.automlComponent\": \"AutoML\", \"pipeline_id\": \"\", \"score\": \"\", \"predicted_cost\": \"\", \"fit_time\": \"\", \"training_percent\": \"\", \"iteration\": \"\", \"run_preprocessor\": \"\", \"run_algorithm\": \"\", \"automl_best_child_run_id\": \"AutoML_4d23aadf-4acb-475a-a3d7-77afc18dfc85_23\", \"model_explain_best_run_child_id\": \"AutoML_4d23aadf-4acb-475a-a3d7-77afc18dfc85_23\"}, \"end_time_utc\": \"2021-01-26T15:32:30.253239Z\", \"status\": \"Completed\", \"log_files\": {}, \"log_groups\": [], \"run_duration\": \"0:41:23\"}, \"child_runs\": [{\"run_id\": \"AutoML_4d23aadf-4acb-475a-a3d7-77afc18dfc85_0\", \"run_number\": 5, \"metric\": null, \"status\": \"Completed\", \"run_type\": \"azureml.scriptrun\", \"training_percent\": \"100\", \"start_time\": \"2021-01-26T14:59:27.385813Z\", \"end_time\": \"2021-01-26T15:00:15.418181Z\", \"created_time\": \"2021-01-26T14:59:15.428093Z\", \"created_time_dt\": \"2021-01-26T14:59:15.428093Z\", \"duration\": \"0:00:59\", \"iteration\": \"0\", \"goal\": \"spearman_correlation_max\", \"run_name\": \"MaxAbsScaler, LightGBM\", \"run_properties\": \"copy=True\", \"primary_metric\": 0.94542102, \"best_metric\": 0.94542102}, {\"run_id\": \"AutoML_4d23aadf-4acb-475a-a3d7-77afc18dfc85_1\", \"run_number\": 6, \"metric\": null, \"status\": \"Completed\", \"run_type\": \"azureml.scriptrun\", \"training_percent\": \"100\", \"start_time\": \"2021-01-26T15:00:27.446436Z\", \"end_time\": \"2021-01-26T15:01:18.457741Z\", \"created_time\": \"2021-01-26T15:00:16.221111Z\", \"created_time_dt\": \"2021-01-26T15:00:16.221111Z\", \"duration\": \"0:01:02\", \"iteration\": \"1\", \"goal\": \"spearman_correlation_max\", \"run_name\": \"MaxAbsScaler, XGBoostRegressor\", \"run_properties\": \"copy=True\", \"primary_metric\": 0.92575466, \"best_metric\": 0.94542102}, {\"run_id\": \"AutoML_4d23aadf-4acb-475a-a3d7-77afc18dfc85_2\", \"run_number\": 7, \"metric\": null, \"status\": \"Completed\", \"run_type\": \"azureml.scriptrun\", \"training_percent\": \"100\", \"start_time\": \"2021-01-26T15:01:31.299124Z\", \"end_time\": \"2021-01-26T15:02:22.511026Z\", \"created_time\": \"2021-01-26T15:01:20.49009Z\", \"created_time_dt\": \"2021-01-26T15:01:20.49009Z\", \"duration\": \"0:01:02\", \"iteration\": \"2\", \"goal\": \"spearman_correlation_max\", \"run_name\": \"MaxAbsScaler, RandomForest\", \"run_properties\": \"copy=True\", \"primary_metric\": 0.89653747, \"best_metric\": 0.94542102}, {\"run_id\": \"AutoML_4d23aadf-4acb-475a-a3d7-77afc18dfc85_3\", \"run_number\": 8, \"metric\": null, \"status\": \"Completed\", \"run_type\": \"azureml.scriptrun\", \"training_percent\": \"100\", \"start_time\": \"2021-01-26T15:02:35.990Z\", \"end_time\": \"2021-01-26T15:05:39.961007Z\", \"created_time\": \"2021-01-26T15:02:25.491343Z\", \"created_time_dt\": \"2021-01-26T15:02:25.491343Z\", \"duration\": \"0:03:14\", \"iteration\": \"3\", \"goal\": \"spearman_correlation_max\", \"run_name\": \"StandardScalerWrapper, RandomForest\", \"run_properties\": \"<azureml.automl.runtime.shared.model_wrappers.StandardScalerWrapper object at 0x7f90309f6940\", \"primary_metric\": 0.90049351, \"best_metric\": 0.94542102}, {\"run_id\": \"AutoML_4d23aadf-4acb-475a-a3d7-77afc18dfc85_4\", \"run_number\": 9, \"metric\": null, \"status\": \"Completed\", \"run_type\": \"azureml.scriptrun\", \"training_percent\": \"100\", \"start_time\": \"2021-01-26T15:05:53.744833Z\", \"end_time\": \"2021-01-26T15:06:45.004543Z\", \"created_time\": \"2021-01-26T15:05:42.038277Z\", \"created_time_dt\": \"2021-01-26T15:05:42.038277Z\", \"duration\": \"0:01:02\", \"iteration\": \"4\", \"goal\": \"spearman_correlation_max\", \"run_name\": \"SparseNormalizer, XGBoostRegressor\", \"run_properties\": \"<azureml.automl.runtime.shared.model_wrappers.SparseNormalizer object at 0x7fc5805a9ac8\", \"primary_metric\": 0.77029292, \"best_metric\": 0.94542102}, {\"run_id\": \"AutoML_4d23aadf-4acb-475a-a3d7-77afc18dfc85_5\", \"run_number\": 10, \"metric\": null, \"status\": \"Completed\", \"run_type\": \"azureml.scriptrun\", \"training_percent\": \"100\", \"start_time\": \"2021-01-26T15:06:58.179147Z\", \"end_time\": \"2021-01-26T15:08:17.411762Z\", \"created_time\": \"2021-01-26T15:06:47.077665Z\", \"created_time_dt\": \"2021-01-26T15:06:47.077665Z\", \"duration\": \"0:01:30\", \"iteration\": \"5\", \"goal\": \"spearman_correlation_max\", \"run_name\": \"StandardScalerWrapper, XGBoostRegressor\", \"run_properties\": \"<azureml.automl.runtime.shared.model_wrappers.StandardScalerWrapper object at 0x7fca9904cd68\", \"primary_metric\": 0.94068908, \"best_metric\": 0.94542102}, {\"run_id\": \"AutoML_4d23aadf-4acb-475a-a3d7-77afc18dfc85_6\", \"run_number\": 11, \"metric\": null, \"status\": \"Completed\", \"run_type\": \"azureml.scriptrun\", \"training_percent\": \"100\", \"start_time\": \"2021-01-26T15:08:31.828805Z\", \"end_time\": \"2021-01-26T15:09:28.886493Z\", \"created_time\": \"2021-01-26T15:08:19.795523Z\", \"created_time_dt\": \"2021-01-26T15:08:19.795523Z\", \"duration\": \"0:01:09\", \"iteration\": \"6\", \"goal\": \"spearman_correlation_max\", \"run_name\": \"MaxAbsScaler, RandomForest\", \"run_properties\": \"copy=True\", \"primary_metric\": 0.9139807, \"best_metric\": 0.94542102}, {\"run_id\": \"AutoML_4d23aadf-4acb-475a-a3d7-77afc18dfc85_7\", \"run_number\": 12, \"metric\": null, \"status\": \"Completed\", \"run_type\": \"azureml.scriptrun\", \"training_percent\": \"100\", \"start_time\": \"2021-01-26T15:09:41.970018Z\", \"end_time\": \"2021-01-26T15:10:54.965137Z\", \"created_time\": \"2021-01-26T15:09:31.557755Z\", \"created_time_dt\": \"2021-01-26T15:09:31.557755Z\", \"duration\": \"0:01:23\", \"iteration\": \"7\", \"goal\": \"spearman_correlation_max\", \"run_name\": \"MaxAbsScaler, RandomForest\", \"run_properties\": \"copy=True\", \"primary_metric\": 0.92605691, \"best_metric\": 0.94542102}, {\"run_id\": \"AutoML_4d23aadf-4acb-475a-a3d7-77afc18dfc85_8\", \"run_number\": 13, \"metric\": null, \"status\": \"Completed\", \"run_type\": \"azureml.scriptrun\", \"training_percent\": \"100\", \"start_time\": \"2021-01-26T15:11:08.834745Z\", \"end_time\": \"2021-01-26T15:12:03.055322Z\", \"created_time\": \"2021-01-26T15:10:57.367365Z\", \"created_time_dt\": \"2021-01-26T15:10:57.367365Z\", \"duration\": \"0:01:05\", \"iteration\": \"8\", \"goal\": \"spearman_correlation_max\", \"run_name\": \"StandardScalerWrapper, ElasticNet\", \"run_properties\": \"<azureml.automl.runtime.shared.model_wrappers.StandardScalerWrapper object at 0x7f14870154e0\", \"primary_metric\": 0.85781306, \"best_metric\": 0.94542102}, {\"run_id\": \"AutoML_4d23aadf-4acb-475a-a3d7-77afc18dfc85_9\", \"run_number\": 14, \"metric\": null, \"status\": \"Completed\", \"run_type\": \"azureml.scriptrun\", \"training_percent\": \"100\", \"start_time\": \"2021-01-26T15:12:16.586573Z\", \"end_time\": \"2021-01-26T15:13:01.796951Z\", \"created_time\": \"2021-01-26T15:12:05.20537Z\", \"created_time_dt\": \"2021-01-26T15:12:05.20537Z\", \"duration\": \"0:00:56\", \"iteration\": \"9\", \"goal\": \"spearman_correlation_max\", \"run_name\": \"StandardScalerWrapper, DecisionTree\", \"run_properties\": \"<azureml.automl.runtime.shared.model_wrappers.StandardScalerWrapper object at 0x7fb68bda02e8\", \"primary_metric\": 0.89588544, \"best_metric\": 0.94542102}, {\"run_id\": \"AutoML_4d23aadf-4acb-475a-a3d7-77afc18dfc85_10\", \"run_number\": 15, \"metric\": null, \"status\": \"Completed\", \"run_type\": \"azureml.scriptrun\", \"training_percent\": \"100\", \"start_time\": \"2021-01-26T15:13:15.175775Z\", \"end_time\": \"2021-01-26T15:14:14.859032Z\", \"created_time\": \"2021-01-26T15:13:04.308163Z\", \"created_time_dt\": \"2021-01-26T15:13:04.308163Z\", \"duration\": \"0:01:10\", \"iteration\": \"10\", \"goal\": \"spearman_correlation_max\", \"run_name\": \"StandardScalerWrapper, RandomForest\", \"run_properties\": \"<azureml.automl.runtime.shared.model_wrappers.StandardScalerWrapper object at 0x7ff1d7bf9550\", \"primary_metric\": 0.89615076, \"best_metric\": 0.94542102}, {\"run_id\": \"AutoML_4d23aadf-4acb-475a-a3d7-77afc18dfc85_11\", \"run_number\": 16, \"metric\": null, \"status\": \"Completed\", \"run_type\": \"azureml.scriptrun\", \"training_percent\": \"100\", \"start_time\": \"2021-01-26T15:14:28.242632Z\", \"end_time\": \"2021-01-26T15:16:05.195522Z\", \"created_time\": \"2021-01-26T15:14:17.049503Z\", \"created_time_dt\": \"2021-01-26T15:14:17.049503Z\", \"duration\": \"0:01:48\", \"iteration\": \"11\", \"goal\": \"spearman_correlation_max\", \"run_name\": \"MaxAbsScaler, ExtremeRandomTrees\", \"run_properties\": \"copy=True\", \"primary_metric\": 0.91936969, \"best_metric\": 0.94542102}, {\"run_id\": \"AutoML_4d23aadf-4acb-475a-a3d7-77afc18dfc85_12\", \"run_number\": 17, \"metric\": null, \"status\": \"Completed\", \"run_type\": \"azureml.scriptrun\", \"training_percent\": \"100\", \"start_time\": \"2021-01-26T15:16:19.836015Z\", \"end_time\": \"2021-01-26T15:17:11.122548Z\", \"created_time\": \"2021-01-26T15:16:07.44088Z\", \"created_time_dt\": \"2021-01-26T15:16:07.44088Z\", \"duration\": \"0:01:03\", \"iteration\": \"12\", \"goal\": \"spearman_correlation_max\", \"run_name\": \"MaxAbsScaler, RandomForest\", \"run_properties\": \"copy=True\", \"primary_metric\": 0.87303886, \"best_metric\": 0.94542102}, {\"run_id\": \"AutoML_4d23aadf-4acb-475a-a3d7-77afc18dfc85_13\", \"run_number\": 18, \"metric\": null, \"status\": \"Completed\", \"run_type\": \"azureml.scriptrun\", \"training_percent\": \"100\", \"start_time\": \"2021-01-26T15:17:26.005565Z\", \"end_time\": \"2021-01-26T15:18:14.399091Z\", \"created_time\": \"2021-01-26T15:17:14.187729Z\", \"created_time_dt\": \"2021-01-26T15:17:14.187729Z\", \"duration\": \"0:01:00\", \"iteration\": \"13\", \"goal\": \"spearman_correlation_max\", \"run_name\": \"MaxAbsScaler, ExtremeRandomTrees\", \"run_properties\": \"copy=True\", \"primary_metric\": 0.86604477, \"best_metric\": 0.94542102}, {\"run_id\": \"AutoML_4d23aadf-4acb-475a-a3d7-77afc18dfc85_14\", \"run_number\": 19, \"metric\": null, \"status\": \"Completed\", \"run_type\": \"azureml.scriptrun\", \"training_percent\": \"100\", \"start_time\": \"2021-01-26T15:18:27.137275Z\", \"end_time\": \"2021-01-26T15:19:17.923263Z\", \"created_time\": \"2021-01-26T15:18:16.573145Z\", \"created_time_dt\": \"2021-01-26T15:18:16.573145Z\", \"duration\": \"0:01:01\", \"iteration\": \"14\", \"goal\": \"spearman_correlation_max\", \"run_name\": \"StandardScalerWrapper, XGBoostRegressor\", \"run_properties\": \"<azureml.automl.runtime.shared.model_wrappers.StandardScalerWrapper object at 0x7f823b406f60\", \"primary_metric\": 0.85541608, \"best_metric\": 0.94542102}, {\"run_id\": \"AutoML_4d23aadf-4acb-475a-a3d7-77afc18dfc85_15\", \"run_number\": 20, \"metric\": null, \"status\": \"Completed\", \"run_type\": \"azureml.scriptrun\", \"training_percent\": \"100\", \"start_time\": \"2021-01-26T15:19:30.322262Z\", \"end_time\": \"2021-01-26T15:20:39.319803Z\", \"created_time\": \"2021-01-26T15:19:20.300385Z\", \"created_time_dt\": \"2021-01-26T15:19:20.300385Z\", \"duration\": \"0:01:19\", \"iteration\": \"15\", \"goal\": \"spearman_correlation_max\", \"run_name\": \"StandardScalerWrapper, XGBoostRegressor\", \"run_properties\": \"<azureml.automl.runtime.shared.model_wrappers.StandardScalerWrapper object at 0x7f3834a06a20\", \"primary_metric\": 0.94242292, \"best_metric\": 0.94542102}, {\"run_id\": \"AutoML_4d23aadf-4acb-475a-a3d7-77afc18dfc85_16\", \"run_number\": 21, \"metric\": null, \"status\": \"Completed\", \"run_type\": \"azureml.scriptrun\", \"training_percent\": \"100\", \"start_time\": \"2021-01-26T15:20:54.314082Z\", \"end_time\": \"2021-01-26T15:22:14.235698Z\", \"created_time\": \"2021-01-26T15:20:41.728466Z\", \"created_time_dt\": \"2021-01-26T15:20:41.728466Z\", \"duration\": \"0:01:32\", \"iteration\": \"16\", \"goal\": \"spearman_correlation_max\", \"run_name\": \"MaxAbsScaler, GradientBoosting\", \"run_properties\": \"copy=True\", \"primary_metric\": 0.91105161, \"best_metric\": 0.94542102}, {\"run_id\": \"AutoML_4d23aadf-4acb-475a-a3d7-77afc18dfc85_17\", \"run_number\": 22, \"metric\": null, \"status\": \"Completed\", \"run_type\": \"azureml.scriptrun\", \"training_percent\": \"100\", \"start_time\": \"2021-01-26T15:22:28.623143Z\", \"end_time\": \"2021-01-26T15:23:47.965959Z\", \"created_time\": \"2021-01-26T15:22:17.409917Z\", \"created_time_dt\": \"2021-01-26T15:22:17.409917Z\", \"duration\": \"0:01:30\", \"iteration\": \"17\", \"goal\": \"spearman_correlation_max\", \"run_name\": \"MaxAbsScaler, ElasticNet\", \"run_properties\": \"copy=True\", \"primary_metric\": 0.85467928, \"best_metric\": 0.94542102}, {\"run_id\": \"AutoML_4d23aadf-4acb-475a-a3d7-77afc18dfc85_18\", \"run_number\": 23, \"metric\": null, \"status\": \"Completed\", \"run_type\": \"azureml.scriptrun\", \"training_percent\": \"100\", \"start_time\": \"2021-01-26T15:24:01.74836Z\", \"end_time\": \"2021-01-26T15:25:02.094711Z\", \"created_time\": \"2021-01-26T15:23:49.740628Z\", \"created_time_dt\": \"2021-01-26T15:23:49.740628Z\", \"duration\": \"0:01:12\", \"iteration\": \"18\", \"goal\": \"spearman_correlation_max\", \"run_name\": \"StandardScalerWrapper, XGBoostRegressor\", \"run_properties\": \"<azureml.automl.runtime.shared.model_wrappers.StandardScalerWrapper object at 0x7ffb9b4c6978\", \"primary_metric\": 0.94212909, \"best_metric\": 0.94542102}, {\"run_id\": \"AutoML_4d23aadf-4acb-475a-a3d7-77afc18dfc85_19\", \"run_number\": 24, \"metric\": null, \"status\": \"Completed\", \"run_type\": \"azureml.scriptrun\", \"training_percent\": \"100\", \"start_time\": \"2021-01-26T15:25:15.390999Z\", \"end_time\": \"2021-01-26T15:26:06.571255Z\", \"created_time\": \"2021-01-26T15:25:04.202281Z\", \"created_time_dt\": \"2021-01-26T15:25:04.202281Z\", \"duration\": \"0:01:02\", \"iteration\": \"19\", \"goal\": \"spearman_correlation_max\", \"run_name\": \"StandardScalerWrapper, ExtremeRandomTrees\", \"run_properties\": \"<azureml.automl.runtime.shared.model_wrappers.StandardScalerWrapper object at 0x7f94b30a2780\", \"primary_metric\": 0.90266312, \"best_metric\": 0.94542102}, {\"run_id\": \"AutoML_4d23aadf-4acb-475a-a3d7-77afc18dfc85_20\", \"run_number\": 25, \"metric\": null, \"status\": \"Completed\", \"run_type\": \"azureml.scriptrun\", \"training_percent\": \"100\", \"start_time\": \"2021-01-26T15:26:19.378395Z\", \"end_time\": \"2021-01-26T15:27:07.066486Z\", \"created_time\": \"2021-01-26T15:26:09.073458Z\", \"created_time_dt\": \"2021-01-26T15:26:09.073458Z\", \"duration\": \"0:00:57\", \"iteration\": \"20\", \"goal\": \"spearman_correlation_max\", \"run_name\": \"MaxAbsScaler, RandomForest\", \"run_properties\": \"copy=True\", \"primary_metric\": 0.8560052, \"best_metric\": 0.94542102}, {\"run_id\": \"AutoML_4d23aadf-4acb-475a-a3d7-77afc18dfc85_21\", \"run_number\": 26, \"metric\": null, \"status\": \"Completed\", \"run_type\": \"azureml.scriptrun\", \"training_percent\": \"100\", \"start_time\": \"2021-01-26T15:27:22.328978Z\", \"end_time\": \"2021-01-26T15:28:14.199251Z\", \"created_time\": \"2021-01-26T15:27:09.409998Z\", \"created_time_dt\": \"2021-01-26T15:27:09.409998Z\", \"duration\": \"0:01:04\", \"iteration\": \"21\", \"goal\": \"spearman_correlation_max\", \"run_name\": \"StandardScalerWrapper, ElasticNet\", \"run_properties\": \"<azureml.automl.runtime.shared.model_wrappers.StandardScalerWrapper object at 0x7effb023f978\", \"primary_metric\": 0.8581674, \"best_metric\": 0.94542102}, {\"run_id\": \"AutoML_4d23aadf-4acb-475a-a3d7-77afc18dfc85_22\", \"run_number\": 27, \"metric\": null, \"status\": \"Completed\", \"run_type\": \"azureml.scriptrun\", \"training_percent\": \"100\", \"start_time\": \"2021-01-26T15:28:27.675486Z\", \"end_time\": \"2021-01-26T15:29:24.368728Z\", \"created_time\": \"2021-01-26T15:28:16.297887Z\", \"created_time_dt\": \"2021-01-26T15:28:16.297887Z\", \"duration\": \"0:01:08\", \"iteration\": \"22\", \"goal\": \"spearman_correlation_max\", \"run_name\": \"StandardScalerWrapper, GradientBoosting\", \"run_properties\": \"<azureml.automl.runtime.shared.model_wrappers.StandardScalerWrapper object at 0x7fc8ece11e10\", \"primary_metric\": 0.92152206, \"best_metric\": 0.94542102}, {\"run_id\": \"AutoML_4d23aadf-4acb-475a-a3d7-77afc18dfc85_23\", \"run_number\": 28, \"metric\": null, \"status\": \"Completed\", \"run_type\": \"azureml.scriptrun\", \"training_percent\": \"100\", \"start_time\": \"2021-01-26T15:29:38.676611Z\", \"end_time\": \"2021-01-26T15:30:55.688604Z\", \"created_time\": \"2021-01-26T15:29:26.139093Z\", \"created_time_dt\": \"2021-01-26T15:29:26.139093Z\", \"duration\": \"0:01:29\", \"iteration\": \"23\", \"goal\": \"spearman_correlation_max\", \"run_name\": \"VotingEnsemble\", \"run_properties\": \"estimators=[('0',\\n                                          Pipeline(memory=None,\\n                                                   steps=[('maxabsscaler',\\n                                                           MaxAbsScaler(copy=True\", \"primary_metric\": 0.94701832, \"best_metric\": 0.94701832}, {\"run_id\": \"AutoML_4d23aadf-4acb-475a-a3d7-77afc18dfc85_24\", \"run_number\": 29, \"metric\": null, \"status\": \"Completed\", \"run_type\": \"azureml.scriptrun\", \"training_percent\": \"100\", \"start_time\": \"2021-01-26T15:31:07.470638Z\", \"end_time\": \"2021-01-26T15:32:22.853874Z\", \"created_time\": \"2021-01-26T15:30:56.81799Z\", \"created_time_dt\": \"2021-01-26T15:30:56.81799Z\", \"duration\": \"0:01:26\", \"iteration\": \"24\", \"goal\": \"spearman_correlation_max\", \"run_name\": \"StackEnsemble\", \"run_properties\": \"base_learners=[('0',\\n                                       Pipeline(memory=None,\\n                                                steps=[('maxabsscaler',\\n                                                        MaxAbsScaler(copy=True\", \"primary_metric\": 0.94588736, \"best_metric\": 0.94701832}], \"children_metrics\": {\"categories\": [0], \"series\": {\"r2_score\": [{\"categories\": [\"0\", \"1\", \"2\", \"3\", \"4\", \"5\", \"6\", \"7\", \"8\", \"9\", \"10\", \"11\", \"12\", \"13\", \"14\", \"15\", \"16\", \"17\", \"18\", \"19\", \"20\", \"21\", \"22\", \"23\", \"24\"], \"mode\": \"markers\", \"name\": \"r2_score\", \"stepped\": false, \"type\": \"scatter\", \"data\": [0.8689251389990353, 0.8487051989813231, 0.6992763245022694, 0.706865936152719, 0.6931709054464513, 0.8294745176394379, 0.7138748536797284, 0.7745656253153952, 0.7271732138403774, 0.6766647787804999, 0.7156123323464301, 0.7473246861243433, 0.6415174767279532, 0.6025244664142916, 0.6536711344326221, 0.8825687469296604, 0.64580357129119, 0.7275974872910036, 0.8376896430070782, 0.7354570256197955, 0.533742214523563, 0.7256012225282744, 0.6058740421138731, 0.8727579064785459, 0.8866308169145236]}, {\"categories\": [\"0\", \"1\", \"2\", \"3\", \"4\", \"5\", \"6\", \"7\", \"8\", \"9\", \"10\", \"11\", \"12\", \"13\", \"14\", \"15\", \"16\", \"17\", \"18\", \"19\", \"20\", \"21\", \"22\", \"23\", \"24\"], \"mode\": \"lines\", \"name\": \"r2_score_max\", \"stepped\": true, \"type\": \"scatter\", \"data\": [0.8689251389990353, 0.8689251389990353, 0.8689251389990353, 0.8689251389990353, 0.8689251389990353, 0.8689251389990353, 0.8689251389990353, 0.8689251389990353, 0.8689251389990353, 0.8689251389990353, 0.8689251389990353, 0.8689251389990353, 0.8689251389990353, 0.8689251389990353, 0.8689251389990353, 0.8825687469296604, 0.8825687469296604, 0.8825687469296604, 0.8825687469296604, 0.8825687469296604, 0.8825687469296604, 0.8825687469296604, 0.8825687469296604, 0.8825687469296604, 0.8866308169145236]}], \"root_mean_squared_log_error\": [{\"categories\": [\"0\", \"1\", \"2\", \"3\", \"4\", \"5\", \"6\", \"7\", \"8\", \"9\", \"10\", \"11\", \"12\", \"13\", \"14\", \"15\", \"16\", \"17\", \"18\", \"19\", \"20\", \"21\", \"22\", \"23\", \"24\"], \"mode\": \"markers\", \"name\": \"root_mean_squared_log_error\", \"stepped\": false, \"type\": \"scatter\", \"data\": [0.17542450633662193, 0.20182278961747846, 0.25027346299569464, 0.24626364629409897, 0.3186176534057334, 0.19230678642894194, 0.226215065647704, 0.20836620975591108, 0.2947411943802971, 0.24464678471857665, 0.24875371239774663, 0.22033766635918398, 0.278414436599971, 0.28258935451776673, 0.28168775874087726, 0.17760770712099405, 0.24337592805836442, 0.29821488319349615, 0.1894592181459175, 0.2355749445897021, 0.29442119285735846, 0.29122107214815607, 0.23136585357573466, 0.17248953957998728, 0.17252592542519407]}, {\"categories\": [\"0\", \"1\", \"2\", \"3\", \"4\", \"5\", \"6\", \"7\", \"8\", \"9\", \"10\", \"11\", \"12\", \"13\", \"14\", \"15\", \"16\", \"17\", \"18\", \"19\", \"20\", \"21\", \"22\", \"23\", \"24\"], \"mode\": \"lines\", \"name\": \"root_mean_squared_log_error_min\", \"stepped\": true, \"type\": \"scatter\", \"data\": [0.17542450633662193, 0.17542450633662193, 0.17542450633662193, 0.17542450633662193, 0.17542450633662193, 0.17542450633662193, 0.17542450633662193, 0.17542450633662193, 0.17542450633662193, 0.17542450633662193, 0.17542450633662193, 0.17542450633662193, 0.17542450633662193, 0.17542450633662193, 0.17542450633662193, 0.17542450633662193, 0.17542450633662193, 0.17542450633662193, 0.17542450633662193, 0.17542450633662193, 0.17542450633662193, 0.17542450633662193, 0.17542450633662193, 0.17248953957998728, 0.17248953957998728]}], \"root_mean_squared_error\": [{\"categories\": [\"0\", \"1\", \"2\", \"3\", \"4\", \"5\", \"6\", \"7\", \"8\", \"9\", \"10\", \"11\", \"12\", \"13\", \"14\", \"15\", \"16\", \"17\", \"18\", \"19\", \"20\", \"21\", \"22\", \"23\", \"24\"], \"mode\": \"markers\", \"name\": \"root_mean_squared_error\", \"stepped\": false, \"type\": \"scatter\", \"data\": [133370.03928492148, 143173.0268935714, 202347.31116289066, 199753.63238849584, 203961.0393007624, 152273.24470986545, 197361.95543946797, 175100.34928205016, 192310.74352555993, 209770.69006892812, 196747.19949997443, 185485.4329758122, 220919.29437414868, 232630.36331424763, 216803.97005412885, 125924.47632220248, 219603.88183144806, 192077.0244623896, 148531.06572490965, 189770.08603597007, 251915.35676972094, 192906.9856876761, 231643.7799503517, 131514.6600429962, 123811.72114195823]}, {\"categories\": [\"0\", \"1\", \"2\", \"3\", \"4\", \"5\", \"6\", \"7\", \"8\", \"9\", \"10\", \"11\", \"12\", \"13\", \"14\", \"15\", \"16\", \"17\", \"18\", \"19\", \"20\", \"21\", \"22\", \"23\", \"24\"], \"mode\": \"lines\", \"name\": \"root_mean_squared_error_min\", \"stepped\": true, \"type\": \"scatter\", \"data\": [133370.03928492148, 133370.03928492148, 133370.03928492148, 133370.03928492148, 133370.03928492148, 133370.03928492148, 133370.03928492148, 133370.03928492148, 133370.03928492148, 133370.03928492148, 133370.03928492148, 133370.03928492148, 133370.03928492148, 133370.03928492148, 133370.03928492148, 125924.47632220248, 125924.47632220248, 125924.47632220248, 125924.47632220248, 125924.47632220248, 125924.47632220248, 125924.47632220248, 125924.47632220248, 125924.47632220248, 123811.72114195823]}], \"normalized_root_mean_squared_log_error\": [{\"categories\": [\"0\", \"1\", \"2\", \"3\", \"4\", \"5\", \"6\", \"7\", \"8\", \"9\", \"10\", \"11\", \"12\", \"13\", \"14\", \"15\", \"16\", \"17\", \"18\", \"19\", \"20\", \"21\", \"22\", \"23\", \"24\"], \"mode\": \"markers\", \"name\": \"normalized_root_mean_squared_log_error\", \"stepped\": false, \"type\": \"scatter\", \"data\": [0.03820008711974824, 0.04394852410953495, 0.05449904514396096, 0.053625875536510284, 0.06938153837317015, 0.04187633842450671, 0.049260137001382334, 0.04537340609762843, 0.06418224875320926, 0.05327379101687648, 0.05416810731518061, 0.04798028637191449, 0.060626966868050615, 0.06153608858375644, 0.061339758903581156, 0.038675496524651354, 0.05299705183059846, 0.06493867223167393, 0.041256257691417844, 0.05129832538498551, 0.0641125658661943, 0.06341571402697253, 0.050381762204696603, 0.03756097467110398, 0.03756889797945953]}, {\"categories\": [\"0\", \"1\", \"2\", \"3\", \"4\", \"5\", \"6\", \"7\", \"8\", \"9\", \"10\", \"11\", \"12\", \"13\", \"14\", \"15\", \"16\", \"17\", \"18\", \"19\", \"20\", \"21\", \"22\", \"23\", \"24\"], \"mode\": \"lines\", \"name\": \"normalized_root_mean_squared_log_error_min\", \"stepped\": true, \"type\": \"scatter\", \"data\": [0.03820008711974824, 0.03820008711974824, 0.03820008711974824, 0.03820008711974824, 0.03820008711974824, 0.03820008711974824, 0.03820008711974824, 0.03820008711974824, 0.03820008711974824, 0.03820008711974824, 0.03820008711974824, 0.03820008711974824, 0.03820008711974824, 0.03820008711974824, 0.03820008711974824, 0.03820008711974824, 0.03820008711974824, 0.03820008711974824, 0.03820008711974824, 0.03820008711974824, 0.03820008711974824, 0.03820008711974824, 0.03820008711974824, 0.03756097467110398, 0.03756097467110398]}], \"normalized_mean_absolute_error\": [{\"categories\": [\"0\", \"1\", \"2\", \"3\", \"4\", \"5\", \"6\", \"7\", \"8\", \"9\", \"10\", \"11\", \"12\", \"13\", \"14\", \"15\", \"16\", \"17\", \"18\", \"19\", \"20\", \"21\", \"22\", \"23\", \"24\"], \"mode\": \"markers\", \"name\": \"normalized_mean_absolute_error\", \"stepped\": false, \"type\": \"scatter\", \"data\": [0.009076790689789489, 0.010741099611351768, 0.013993698215026542, 0.013750721395102342, 0.01743057720366786, 0.010582403725925907, 0.012666997495223584, 0.011394740769183818, 0.01548217493876727, 0.013875527584823324, 0.013804991247879438, 0.012360722194564504, 0.01564548575901272, 0.016141109524455945, 0.015938483046538665, 0.009168903045464036, 0.013631386331685858, 0.015574892837914137, 0.010514175462936166, 0.013119110173534732, 0.017141247644524796, 0.01547525615480363, 0.013075481859958809, 0.009056794875902075, 0.008934331303951428]}, {\"categories\": [\"0\", \"1\", \"2\", \"3\", \"4\", \"5\", \"6\", \"7\", \"8\", \"9\", \"10\", \"11\", \"12\", \"13\", \"14\", \"15\", \"16\", \"17\", \"18\", \"19\", \"20\", \"21\", \"22\", \"23\", \"24\"], \"mode\": \"lines\", \"name\": \"normalized_mean_absolute_error_min\", \"stepped\": true, \"type\": \"scatter\", \"data\": [0.009076790689789489, 0.009076790689789489, 0.009076790689789489, 0.009076790689789489, 0.009076790689789489, 0.009076790689789489, 0.009076790689789489, 0.009076790689789489, 0.009076790689789489, 0.009076790689789489, 0.009076790689789489, 0.009076790689789489, 0.009076790689789489, 0.009076790689789489, 0.009076790689789489, 0.009076790689789489, 0.009076790689789489, 0.009076790689789489, 0.009076790689789489, 0.009076790689789489, 0.009076790689789489, 0.009076790689789489, 0.009076790689789489, 0.009056794875902075, 0.008934331303951428]}], \"mean_absolute_error\": [{\"categories\": [\"0\", \"1\", \"2\", \"3\", \"4\", \"5\", \"6\", \"7\", \"8\", \"9\", \"10\", \"11\", \"12\", \"13\", \"14\", \"15\", \"16\", \"17\", \"18\", \"19\", \"20\", \"21\", \"22\", \"23\", \"24\"], \"mode\": \"markers\", \"name\": \"mean_absolute_error\", \"stepped\": false, \"type\": \"scatter\", \"data\": [69183.29863757548, 81868.6612377232, 106659.96779493231, 104807.99847347006, 132855.85944635645, 80659.08119900725, 96547.85490859413, 86850.71414271908, 118005.13738328412, 105759.27125152337, 105221.6432913371, 94213.42456697064, 119249.892455195, 123027.53679540323, 121483.1177807177, 69885.37901252687, 103898.4266201096, 118711.83321058154, 80139.04537849946, 99993.85774268172, 130650.589546568, 117952.40241191324, 99661.32273660605, 69030.8905441256, 68097.4731987178]}, {\"categories\": [\"0\", \"1\", \"2\", \"3\", \"4\", \"5\", \"6\", \"7\", \"8\", \"9\", \"10\", \"11\", \"12\", \"13\", \"14\", \"15\", \"16\", \"17\", \"18\", \"19\", \"20\", \"21\", \"22\", \"23\", \"24\"], \"mode\": \"lines\", \"name\": \"mean_absolute_error_min\", \"stepped\": true, \"type\": \"scatter\", \"data\": [69183.29863757548, 69183.29863757548, 69183.29863757548, 69183.29863757548, 69183.29863757548, 69183.29863757548, 69183.29863757548, 69183.29863757548, 69183.29863757548, 69183.29863757548, 69183.29863757548, 69183.29863757548, 69183.29863757548, 69183.29863757548, 69183.29863757548, 69183.29863757548, 69183.29863757548, 69183.29863757548, 69183.29863757548, 69183.29863757548, 69183.29863757548, 69183.29863757548, 69183.29863757548, 69030.8905441256, 68097.4731987178]}], \"median_absolute_error\": [{\"categories\": [\"0\", \"1\", \"2\", \"3\", \"4\", \"5\", \"6\", \"7\", \"8\", \"9\", \"10\", \"11\", \"12\", \"13\", \"14\", \"15\", \"16\", \"17\", \"18\", \"19\", \"20\", \"21\", \"22\", \"23\", \"24\"], \"mode\": \"markers\", \"name\": \"median_absolute_error\", \"stepped\": false, \"type\": \"scatter\", \"data\": [40848.28657559006, 50114.78125, 64356.85285805294, 62874.86032201022, 95957.190625, 46790.371875, 52539.22132598192, 47027.79595737679, 80304.88060333804, 58512.68453356672, 64583.576174749374, 54009.37417325247, 75585.50887241434, 76159.66038705198, 72239.1921875, 41677.39375, 58762.54053313429, 80658.69398261681, 46696.9421875, 59646.51200733786, 73577.45926509914, 79997.20828820617, 50050.95749496382, 39732.131826093304, 40544.31552187859]}, {\"categories\": [\"0\", \"1\", \"2\", \"3\", \"4\", \"5\", \"6\", \"7\", \"8\", \"9\", \"10\", \"11\", \"12\", \"13\", \"14\", \"15\", \"16\", \"17\", \"18\", \"19\", \"20\", \"21\", \"22\", \"23\", \"24\"], \"mode\": \"lines\", \"name\": \"median_absolute_error_min\", \"stepped\": true, \"type\": \"scatter\", \"data\": [40848.28657559006, 40848.28657559006, 40848.28657559006, 40848.28657559006, 40848.28657559006, 40848.28657559006, 40848.28657559006, 40848.28657559006, 40848.28657559006, 40848.28657559006, 40848.28657559006, 40848.28657559006, 40848.28657559006, 40848.28657559006, 40848.28657559006, 40848.28657559006, 40848.28657559006, 40848.28657559006, 40848.28657559006, 40848.28657559006, 40848.28657559006, 40848.28657559006, 40848.28657559006, 39732.131826093304, 39732.131826093304]}], \"normalized_median_absolute_error\": [{\"categories\": [\"0\", \"1\", \"2\", \"3\", \"4\", \"5\", \"6\", \"7\", \"8\", \"9\", \"10\", \"11\", \"12\", \"13\", \"14\", \"15\", \"16\", \"17\", \"18\", \"19\", \"20\", \"21\", \"22\", \"23\", \"24\"], \"mode\": \"markers\", \"name\": \"normalized_median_absolute_error\", \"stepped\": false, \"type\": \"scatter\", \"data\": [0.005359260899447658, 0.006575017219889792, 0.008443565056160186, 0.00824912887982291, 0.012589502837181844, 0.006138857501311991, 0.006893101722117806, 0.006170007341560849, 0.010535932905187357, 0.0076768150791874466, 0.008473310964936942, 0.007085984541229662, 0.009916755296826861, 0.00999208349344686, 0.009477721357583312, 0.005468039064549987, 0.00770959597653297, 0.010582352923460615, 0.00612659960476253, 0.00782557229170006, 0.009653300874455411, 0.010495566555786692, 0.0065666435968202335, 0.005212822333520507, 0.005319380152437495]}, {\"categories\": [\"0\", \"1\", \"2\", \"3\", \"4\", \"5\", \"6\", \"7\", \"8\", \"9\", \"10\", \"11\", \"12\", \"13\", \"14\", \"15\", \"16\", \"17\", \"18\", \"19\", \"20\", \"21\", \"22\", \"23\", \"24\"], \"mode\": \"lines\", \"name\": \"normalized_median_absolute_error_min\", \"stepped\": true, \"type\": \"scatter\", \"data\": [0.005359260899447658, 0.005359260899447658, 0.005359260899447658, 0.005359260899447658, 0.005359260899447658, 0.005359260899447658, 0.005359260899447658, 0.005359260899447658, 0.005359260899447658, 0.005359260899447658, 0.005359260899447658, 0.005359260899447658, 0.005359260899447658, 0.005359260899447658, 0.005359260899447658, 0.005359260899447658, 0.005359260899447658, 0.005359260899447658, 0.005359260899447658, 0.005359260899447658, 0.005359260899447658, 0.005359260899447658, 0.005359260899447658, 0.005212822333520507, 0.005212822333520507]}], \"explained_variance\": [{\"categories\": [\"0\", \"1\", \"2\", \"3\", \"4\", \"5\", \"6\", \"7\", \"8\", \"9\", \"10\", \"11\", \"12\", \"13\", \"14\", \"15\", \"16\", \"17\", \"18\", \"19\", \"20\", \"21\", \"22\", \"23\", \"24\"], \"mode\": \"markers\", \"name\": \"explained_variance\", \"stepped\": false, \"type\": \"scatter\", \"data\": [0.8689773525942204, 0.8487575170472695, 0.699376095262072, 0.7069716672710757, 0.6932689959524538, 0.845342468687185, 0.7139623794792973, 0.7746660496736273, 0.7272569138752335, 0.6768005427119362, 0.7157365716974222, 0.7474094985110684, 0.6416734451259763, 0.6026959794096711, 0.6649118544453632, 0.8826053844233103, 0.649234357386435, 0.7276816713882064, 0.8527866067241303, 0.7355370803384538, 0.5338501237114507, 0.7256859893757603, 0.6145606931271784, 0.87447501621208, 0.886688091309124]}, {\"categories\": [\"0\", \"1\", \"2\", \"3\", \"4\", \"5\", \"6\", \"7\", \"8\", \"9\", \"10\", \"11\", \"12\", \"13\", \"14\", \"15\", \"16\", \"17\", \"18\", \"19\", \"20\", \"21\", \"22\", \"23\", \"24\"], \"mode\": \"lines\", \"name\": \"explained_variance_max\", \"stepped\": true, \"type\": \"scatter\", \"data\": [0.8689773525942204, 0.8689773525942204, 0.8689773525942204, 0.8689773525942204, 0.8689773525942204, 0.8689773525942204, 0.8689773525942204, 0.8689773525942204, 0.8689773525942204, 0.8689773525942204, 0.8689773525942204, 0.8689773525942204, 0.8689773525942204, 0.8689773525942204, 0.8689773525942204, 0.8826053844233103, 0.8826053844233103, 0.8826053844233103, 0.8826053844233103, 0.8826053844233103, 0.8826053844233103, 0.8826053844233103, 0.8826053844233103, 0.8826053844233103, 0.886688091309124]}], \"spearman_correlation\": [{\"categories\": [\"0\", \"1\", \"2\", \"3\", \"4\", \"5\", \"6\", \"7\", \"8\", \"9\", \"10\", \"11\", \"12\", \"13\", \"14\", \"15\", \"16\", \"17\", \"18\", \"19\", \"20\", \"21\", \"22\", \"23\", \"24\"], \"mode\": \"markers\", \"name\": \"spearman_correlation\", \"stepped\": false, \"type\": \"scatter\", \"data\": [0.9454210168960613, 0.9257546565443482, 0.896537465643665, 0.9004935067100563, 0.7702929227926356, 0.9406890833265518, 0.9139806982202868, 0.9260569096049714, 0.8578130628160036, 0.8958854372722502, 0.8961507647423828, 0.9193696905042532, 0.8730388586873048, 0.8660447708365255, 0.8554160781078979, 0.9424229173431293, 0.9110516094076024, 0.854679275811342, 0.9421290871961304, 0.9026631232120446, 0.8560051971682929, 0.8581674027681865, 0.921522057047145, 0.9470183246082697, 0.9458873583863975]}, {\"categories\": [\"0\", \"1\", \"2\", \"3\", \"4\", \"5\", \"6\", \"7\", \"8\", \"9\", \"10\", \"11\", \"12\", \"13\", \"14\", \"15\", \"16\", \"17\", \"18\", \"19\", \"20\", \"21\", \"22\", \"23\", \"24\"], \"mode\": \"lines\", \"name\": \"spearman_correlation_max\", \"stepped\": true, \"type\": \"scatter\", \"data\": [0.9454210168960613, 0.9454210168960613, 0.9454210168960613, 0.9454210168960613, 0.9454210168960613, 0.9454210168960613, 0.9454210168960613, 0.9454210168960613, 0.9454210168960613, 0.9454210168960613, 0.9454210168960613, 0.9454210168960613, 0.9454210168960613, 0.9454210168960613, 0.9454210168960613, 0.9454210168960613, 0.9454210168960613, 0.9454210168960613, 0.9454210168960613, 0.9454210168960613, 0.9454210168960613, 0.9454210168960613, 0.9454210168960613, 0.9470183246082697, 0.9470183246082697]}], \"normalized_root_mean_squared_error\": [{\"categories\": [\"0\", \"1\", \"2\", \"3\", \"4\", \"5\", \"6\", \"7\", \"8\", \"9\", \"10\", \"11\", \"12\", \"13\", \"14\", \"15\", \"16\", \"17\", \"18\", \"19\", \"20\", \"21\", \"22\", \"23\", \"24\"], \"mode\": \"markers\", \"name\": \"normalized_root_mean_squared_error\", \"stepped\": false, \"type\": \"scatter\", \"data\": [0.017498037166743828, 0.018784180909678743, 0.026547797318668416, 0.02620750884131407, 0.026759517095350616, 0.019978121845954534, 0.02589372283383206, 0.022973018798484672, 0.025231008072101803, 0.027521738397917616, 0.025813067370765476, 0.02433553305901498, 0.028984425921562407, 0.030520908333015954, 0.028444498826309218, 0.016521185557885395, 0.02881184490047862, 0.025200344327261825, 0.01948715110534107, 0.024897675942793244, 0.03305108328125438, 0.025309234543122026, 0.03039146942408183, 0.017254612968118106, 0.016243993852264264]}, {\"categories\": [\"0\", \"1\", \"2\", \"3\", \"4\", \"5\", \"6\", \"7\", \"8\", \"9\", \"10\", \"11\", \"12\", \"13\", \"14\", \"15\", \"16\", \"17\", \"18\", \"19\", \"20\", \"21\", \"22\", \"23\", \"24\"], \"mode\": \"lines\", \"name\": \"normalized_root_mean_squared_error_min\", \"stepped\": true, \"type\": \"scatter\", \"data\": [0.017498037166743828, 0.017498037166743828, 0.017498037166743828, 0.017498037166743828, 0.017498037166743828, 0.017498037166743828, 0.017498037166743828, 0.017498037166743828, 0.017498037166743828, 0.017498037166743828, 0.017498037166743828, 0.017498037166743828, 0.017498037166743828, 0.017498037166743828, 0.017498037166743828, 0.016521185557885395, 0.016521185557885395, 0.016521185557885395, 0.016521185557885395, 0.016521185557885395, 0.016521185557885395, 0.016521185557885395, 0.016521185557885395, 0.016521185557885395, 0.016243993852264264]}], \"mean_absolute_percentage_error\": [{\"categories\": [\"0\", \"1\", \"2\", \"3\", \"4\", \"5\", \"6\", \"7\", \"8\", \"9\", \"10\", \"11\", \"12\", \"13\", \"14\", \"15\", \"16\", \"17\", \"18\", \"19\", \"20\", \"21\", \"22\", \"23\", \"24\"], \"mode\": \"markers\", \"name\": \"mean_absolute_percentage_error\", \"stepped\": false, \"type\": \"scatter\", \"data\": [13.12670306237196, 15.710473333735962, 20.398986704948477, 19.97965650900118, 27.819007261916944, 13.85538676378468, 17.312665582333963, 15.650112757608971, 22.945039361029508, 18.87952746620047, 20.29522464768816, 17.251180108913704, 23.398021673728667, 23.53889252581716, 22.060198379679846, 13.332385194156847, 18.357235784862944, 23.194346712483153, 13.75932608702449, 18.775987377184702, 23.73233995102745, 22.901649208261816, 16.43727639966219, 12.677510241514366, 12.895573963484395]}, {\"categories\": [\"0\", \"1\", \"2\", \"3\", \"4\", \"5\", \"6\", \"7\", \"8\", \"9\", \"10\", \"11\", \"12\", \"13\", \"14\", \"15\", \"16\", \"17\", \"18\", \"19\", \"20\", \"21\", \"22\", \"23\", \"24\"], \"mode\": \"lines\", \"name\": \"mean_absolute_percentage_error_min\", \"stepped\": true, \"type\": \"scatter\", \"data\": [13.12670306237196, 13.12670306237196, 13.12670306237196, 13.12670306237196, 13.12670306237196, 13.12670306237196, 13.12670306237196, 13.12670306237196, 13.12670306237196, 13.12670306237196, 13.12670306237196, 13.12670306237196, 13.12670306237196, 13.12670306237196, 13.12670306237196, 13.12670306237196, 13.12670306237196, 13.12670306237196, 13.12670306237196, 13.12670306237196, 13.12670306237196, 13.12670306237196, 13.12670306237196, 12.677510241514366, 12.677510241514366]}]}, \"metricName\": null, \"primaryMetricName\": \"spearman_correlation\", \"showLegend\": false}, \"run_metrics\": [{\"name\": \"experiment_status\", \"run_id\": \"AutoML_4d23aadf-4acb-475a-a3d7-77afc18dfc85\", \"categories\": [0, 1, 2, 3, 4, 5, 6, 7, 8, 9, 10, 11, 12, 13], \"series\": [{\"data\": [\"DatasetEvaluation\", \"FeaturesGeneration\", \"DatasetFeaturization\", \"DatasetFeaturizationCompleted\", \"DatasetCrossValidationSplit\", \"ModelSelection\", \"BestRunExplainModel\", \"ModelExplanationDataSetSetup\", \"PickSurrogateModel\", \"EngineeredFeatureExplanations\", \"EngineeredFeatureExplanations\", \"RawFeaturesExplanations\", \"RawFeaturesExplanations\", \"BestRunExplainModel\"]}]}, {\"name\": \"experiment_status_description\", \"run_id\": \"AutoML_4d23aadf-4acb-475a-a3d7-77afc18dfc85\", \"categories\": [0, 1, 2, 3, 4, 5, 6, 7, 8, 9, 10, 11, 12, 13], \"series\": [{\"data\": [\"Gathering dataset statistics.\", \"Generating features for the dataset.\", \"Beginning to fit featurizers and featurize the dataset.\", \"Completed fit featurizers and featurizing the dataset.\", \"Generating individually featurized CV splits.\", \"Beginning model selection.\", \"Best run model explanations started\", \"Model explanations data setup completed\", \"Choosing LightGBM as the surrogate model for explanations\", \"Computation of engineered features started\", \"Computation of engineered features completed\", \"Computation of raw features started\", \"Computation of raw features completed\", \"Best run model explanations completed\"]}]}, {\"name\": \"normalized_root_mean_squared_error\", \"run_id\": \"AutoML_4d23aadf-4acb-475a-a3d7-77afc18dfc85\", \"categories\": [0], \"series\": [{\"data\": [0.017254612968118106]}]}, {\"name\": \"mean_absolute_error\", \"run_id\": \"AutoML_4d23aadf-4acb-475a-a3d7-77afc18dfc85\", \"categories\": [0], \"series\": [{\"data\": [69030.8905441256]}]}, {\"name\": \"root_mean_squared_log_error\", \"run_id\": \"AutoML_4d23aadf-4acb-475a-a3d7-77afc18dfc85\", \"categories\": [0], \"series\": [{\"data\": [0.17248953957998728]}]}, {\"name\": \"mean_absolute_percentage_error\", \"run_id\": \"AutoML_4d23aadf-4acb-475a-a3d7-77afc18dfc85\", \"categories\": [0], \"series\": [{\"data\": [12.677510241514366]}]}, {\"name\": \"normalized_median_absolute_error\", \"run_id\": \"AutoML_4d23aadf-4acb-475a-a3d7-77afc18dfc85\", \"categories\": [0], \"series\": [{\"data\": [0.005212822333520507]}]}, {\"name\": \"explained_variance\", \"run_id\": \"AutoML_4d23aadf-4acb-475a-a3d7-77afc18dfc85\", \"categories\": [0], \"series\": [{\"data\": [0.87447501621208]}]}, {\"name\": \"median_absolute_error\", \"run_id\": \"AutoML_4d23aadf-4acb-475a-a3d7-77afc18dfc85\", \"categories\": [0], \"series\": [{\"data\": [39732.131826093304]}]}, {\"name\": \"normalized_root_mean_squared_log_error\", \"run_id\": \"AutoML_4d23aadf-4acb-475a-a3d7-77afc18dfc85\", \"categories\": [0], \"series\": [{\"data\": [0.03756097467110398]}]}, {\"name\": \"normalized_mean_absolute_error\", \"run_id\": \"AutoML_4d23aadf-4acb-475a-a3d7-77afc18dfc85\", \"categories\": [0], \"series\": [{\"data\": [0.009056794875902075]}]}, {\"name\": \"root_mean_squared_error\", \"run_id\": \"AutoML_4d23aadf-4acb-475a-a3d7-77afc18dfc85\", \"categories\": [0], \"series\": [{\"data\": [131514.6600429962]}]}, {\"name\": \"r2_score\", \"run_id\": \"AutoML_4d23aadf-4acb-475a-a3d7-77afc18dfc85\", \"categories\": [0], \"series\": [{\"data\": [0.8727579064785459]}]}, {\"name\": \"spearman_correlation\", \"run_id\": \"AutoML_4d23aadf-4acb-475a-a3d7-77afc18dfc85\", \"categories\": [0], \"series\": [{\"data\": [0.9470183246082697]}]}], \"run_logs\": \"\\nRun is completed.\", \"graph\": {}, \"widget_settings\": {\"childWidgetDisplay\": \"popup\", \"send_telemetry\": false, \"log_level\": \"INFO\", \"sdk_version\": \"1.21.0\"}, \"loading\": false}"
          },
          "metadata": {}
        }
      ],
      "execution_count": 30,
      "metadata": {
        "collapsed": true,
        "jupyter": {
          "source_hidden": false,
          "outputs_hidden": false
        },
        "nteract": {
          "transient": {
            "deleting": false
          }
        },
        "gather": {
          "logged": 1611675178633
        }
      }
    },
    {
      "cell_type": "code",
      "source": [
        "print(run.get_metrics())"
      ],
      "outputs": [
        {
          "output_type": "stream",
          "name": "stdout",
          "text": [
            "{'experiment_status': ['DatasetEvaluation', 'FeaturesGeneration', 'DatasetFeaturization', 'DatasetFeaturizationCompleted', 'DatasetCrossValidationSplit', 'ModelSelection'], 'experiment_status_description': ['Gathering dataset statistics.', 'Generating features for the dataset.', 'Beginning to fit featurizers and featurize the dataset.', 'Completed fit featurizers and featurizing the dataset.', 'Generating individually featurized CV splits.', 'Beginning model selection.'], 'normalized_root_mean_squared_error': 0.017254612968118106, 'mean_absolute_error': 69030.8905441256, 'root_mean_squared_log_error': 0.17248953957998728, 'mean_absolute_percentage_error': 12.677510241514366, 'normalized_median_absolute_error': 0.005212822333520507, 'explained_variance': 0.87447501621208, 'median_absolute_error': 39732.131826093304, 'normalized_root_mean_squared_log_error': 0.03756097467110398, 'normalized_mean_absolute_error': 0.009056794875902075, 'root_mean_squared_error': 131514.6600429962, 'r2_score': 0.8727579064785459, 'spearman_correlation': 0.9470183246082697}\n"
          ]
        }
      ],
      "execution_count": 31,
      "metadata": {
        "collapsed": true,
        "jupyter": {
          "source_hidden": false,
          "outputs_hidden": false
        },
        "nteract": {
          "transient": {
            "deleting": false
          }
        },
        "gather": {
          "logged": 1611675199356
        }
      }
    },
    {
      "cell_type": "markdown",
      "source": [
        "Other metrics:\r\n",
        "- Explained variance 0.87712\r\n",
        "- Mean absolute error 69129\r\n",
        "- Mean absolute percentage error 13.071\r\n",
        "- Median absolute error 40787\r\n",
        "- Normalized mean absolute error 0.0090733\r\n",
        "- Normalized median absolute error 0.0053534\r\n",
        "- Normalized root mean squared error 0.016888\r\n",
        "- Normalized root mean squared log error 0.038143\r\n",
        "- R2 score 0.87707\r\n",
        "- Root mean squared error 1.2867e+5\r\n",
        "- Root mean squared log error 0.17372\r\n",
        "- Spearman correlation 0.94596\r\n",
        "\r\n",
        "Results seem to be very good, as almost no work was put into the model preparation, the whole thing took only 20min including the documentation reading, and tutorial run.\r\n",
        "\r\n",
        "Also the training time was very short"
      ],
      "metadata": {
        "nteract": {
          "transient": {
            "deleting": false
          }
        }
      }
    },
    {
      "cell_type": "code",
      "source": [
        "import time\r\n",
        "import datetime as dt\r\n",
        "\r\n",
        "run_details = run.get_details()\r\n",
        "\r\n",
        "end_time_utc_str = run_details['endTimeUtc'].split(\".\")[0]\r\n",
        "start_time_utc_str = run_details['startTimeUtc'].split(\".\")[0]\r\n",
        "timestamp_end = time.mktime(datetime.strptime(end_time_utc_str, \"%Y-%m-%dT%H:%M:%S\").timetuple())\r\n",
        "timestamp_start = time.mktime(datetime.strptime(start_time_utc_str, \"%Y-%m-%dT%H:%M:%S\").timetuple())\r\n",
        "\r\n",
        "parent_run_time = timestamp_end - timestamp_start\r\n",
        "print('Run Timing: --- %s seconds needed for running the whole Remote AutoML Experiment ---' % (parent_run_time))"
      ],
      "outputs": [
        {
          "output_type": "stream",
          "name": "stdout",
          "text": [
            "Run Timing: --- 2470.0 seconds needed for running the whole Remote AutoML Experiment ---\n"
          ]
        }
      ],
      "execution_count": 32,
      "metadata": {
        "collapsed": true,
        "jupyter": {
          "source_hidden": false,
          "outputs_hidden": false
        },
        "nteract": {
          "transient": {
            "deleting": false
          }
        },
        "gather": {
          "logged": 1611675202032
        }
      }
    },
    {
      "cell_type": "markdown",
      "source": [
        "### Best Model testing\r\n",
        "Best model is Voting Ensamble, so we will use it to test on test_ds"
      ],
      "metadata": {
        "nteract": {
          "transient": {
            "deleting": false
          }
        }
      }
    },
    {
      "cell_type": "code",
      "source": [
        "run"
      ],
      "outputs": [
        {
          "output_type": "execute_result",
          "execution_count": 33,
          "data": {
            "text/plain": "Run(Experiment: regression-automl-1-01-26-2021-14,\nId: AutoML_4d23aadf-4acb-475a-a3d7-77afc18dfc85,\nType: automl,\nStatus: Completed)",
            "text/html": "<table style=\"width:100%\"><tr><th>Experiment</th><th>Id</th><th>Type</th><th>Status</th><th>Details Page</th><th>Docs Page</th></tr><tr><td>regression-automl-1-01-26-2021-14</td><td>AutoML_4d23aadf-4acb-475a-a3d7-77afc18dfc85</td><td>automl</td><td>Completed</td><td><a href=\"https://ml.azure.com/experiments/regression-automl-1-01-26-2021-14/runs/AutoML_4d23aadf-4acb-475a-a3d7-77afc18dfc85?wsid=/subscriptions/2bf6a9f2-6624-4947-9b91-d49100c13f5c/resourcegroups/AZURE_AI/workspaces/azureml\" target=\"_blank\" rel=\"noopener\">Link to Azure Machine Learning studio</a></td><td><a href=\"https://docs.microsoft.com/en-us/python/api/overview/azure/ml/intro?view=azure-ml-py\" target=\"_blank\" rel=\"noopener\">Link to Documentation</a></td></tr></table>"
          },
          "metadata": {}
        }
      ],
      "execution_count": 33,
      "metadata": {
        "collapsed": true,
        "jupyter": {
          "source_hidden": false,
          "outputs_hidden": false
        },
        "nteract": {
          "transient": {
            "deleting": false
          }
        },
        "gather": {
          "logged": 1611675203991
        }
      }
    },
    {
      "cell_type": "code",
      "source": [
        "best_run, fitted_model = run.get_output()"
      ],
      "outputs": [
        {
          "output_type": "error",
          "ename": "ImportError",
          "evalue": "cannot import name 'UnhashableValueInColumn'",
          "traceback": [
            "\u001b[0;31m---------------------------------------------------------------------------\u001b[0m",
            "\u001b[0;31mImportError\u001b[0m                               Traceback (most recent call last)",
            "\u001b[0;32m<ipython-input-34-a9cb6b13e60b>\u001b[0m in \u001b[0;36m<module>\u001b[0;34m\u001b[0m\n\u001b[0;32m----> 1\u001b[0;31m \u001b[0mbest_run\u001b[0m\u001b[0;34m,\u001b[0m \u001b[0mfitted_model\u001b[0m \u001b[0;34m=\u001b[0m \u001b[0mrun\u001b[0m\u001b[0;34m.\u001b[0m\u001b[0mget_output\u001b[0m\u001b[0;34m(\u001b[0m\u001b[0;34m)\u001b[0m\u001b[0;34m\u001b[0m\u001b[0;34m\u001b[0m\u001b[0m\n\u001b[0m",
            "\u001b[0;32m/anaconda/envs/azureml_py36/lib/python3.6/site-packages/azureml/train/automl/run.py\u001b[0m in \u001b[0;36mget_output\u001b[0;34m(self, iteration, metric, return_onnx_model, return_split_onnx_model, **kwargs)\u001b[0m\n\u001b[1;32m    697\u001b[0m                     \u001b[0mfitted_model\u001b[0m \u001b[0;34m=\u001b[0m \u001b[0m_download_automl_onnx_model\u001b[0m\u001b[0;34m(\u001b[0m\u001b[0mcurr_run\u001b[0m\u001b[0;34m,\u001b[0m \u001b[0mmodel_name\u001b[0m\u001b[0;34m)\u001b[0m\u001b[0;34m\u001b[0m\u001b[0;34m\u001b[0m\u001b[0m\n\u001b[1;32m    698\u001b[0m                 \u001b[0;32melse\u001b[0m\u001b[0;34m:\u001b[0m\u001b[0;34m\u001b[0m\u001b[0;34m\u001b[0m\u001b[0m\n\u001b[0;32m--> 699\u001b[0;31m                     \u001b[0mfitted_model\u001b[0m \u001b[0;34m=\u001b[0m \u001b[0m_download_automl_model\u001b[0m\u001b[0;34m(\u001b[0m\u001b[0mcurr_run\u001b[0m\u001b[0;34m,\u001b[0m \u001b[0mmodel_name\u001b[0m\u001b[0;34m)\u001b[0m\u001b[0;34m\u001b[0m\u001b[0;34m\u001b[0m\u001b[0m\n\u001b[0m\u001b[1;32m    700\u001b[0m \u001b[0;34m\u001b[0m\u001b[0m\n\u001b[1;32m    701\u001b[0m             \u001b[0;32mreturn\u001b[0m \u001b[0mcurr_run\u001b[0m\u001b[0;34m,\u001b[0m \u001b[0mfitted_model\u001b[0m\u001b[0;34m\u001b[0m\u001b[0;34m\u001b[0m\u001b[0m\n",
            "\u001b[0;32m/anaconda/envs/azureml_py36/lib/python3.6/site-packages/azureml/train/automl/_model_download_utilities.py\u001b[0m in \u001b[0;36m_download_automl_model\u001b[0;34m(run, model_name)\u001b[0m\n\u001b[1;32m     85\u001b[0m             \u001b[0;31m# Pass through any exceptions from loading the model.\u001b[0m\u001b[0;34m\u001b[0m\u001b[0;34m\u001b[0m\u001b[0;34m\u001b[0m\u001b[0m\n\u001b[1;32m     86\u001b[0m             \u001b[0;31m# Try is used here to ensure we can cleanup the side effect of model downlad.\u001b[0m\u001b[0;34m\u001b[0m\u001b[0;34m\u001b[0m\u001b[0;34m\u001b[0m\u001b[0m\n\u001b[0;32m---> 87\u001b[0;31m             \u001b[0mmodel\u001b[0m \u001b[0;34m=\u001b[0m \u001b[0m_load_automl_model\u001b[0m\u001b[0;34m(\u001b[0m\u001b[0mmodel_path\u001b[0m\u001b[0;34m)\u001b[0m\u001b[0;34m\u001b[0m\u001b[0;34m\u001b[0m\u001b[0m\n\u001b[0m\u001b[1;32m     88\u001b[0m             \u001b[0;32mif\u001b[0m \u001b[0mmodel\u001b[0m \u001b[0;32mis\u001b[0m \u001b[0;32mNone\u001b[0m\u001b[0;34m:\u001b[0m\u001b[0;34m\u001b[0m\u001b[0;34m\u001b[0m\u001b[0m\n\u001b[1;32m     89\u001b[0m                 \u001b[0;31m# If we can retrieve the automl runtime version, we do so we can inform the user what to install.\u001b[0m\u001b[0;34m\u001b[0m\u001b[0;34m\u001b[0m\u001b[0;34m\u001b[0m\u001b[0m\n",
            "\u001b[0;32m/anaconda/envs/azureml_py36/lib/python3.6/site-packages/azureml/train/automl/_model_download_utilities.py\u001b[0m in \u001b[0;36m_load_automl_model\u001b[0;34m(model_path)\u001b[0m\n\u001b[1;32m    151\u001b[0m         \u001b[0;32mimport\u001b[0m \u001b[0mazureml\u001b[0m\u001b[0;34m.\u001b[0m\u001b[0mtrain\u001b[0m\u001b[0;34m.\u001b[0m\u001b[0mautoml\u001b[0m\u001b[0;34m.\u001b[0m\u001b[0mruntime\u001b[0m\u001b[0;34m\u001b[0m\u001b[0;34m\u001b[0m\u001b[0m\n\u001b[1;32m    152\u001b[0m         \u001b[0;32mwith\u001b[0m \u001b[0mopen\u001b[0m\u001b[0;34m(\u001b[0m\u001b[0mmodel_path\u001b[0m\u001b[0;34m,\u001b[0m \u001b[0;34m\"rb\"\u001b[0m\u001b[0;34m)\u001b[0m \u001b[0;32mas\u001b[0m \u001b[0mmodel_file\u001b[0m\u001b[0;34m:\u001b[0m\u001b[0;34m\u001b[0m\u001b[0;34m\u001b[0m\u001b[0m\n\u001b[0;32m--> 153\u001b[0;31m             \u001b[0mfitted_model\u001b[0m \u001b[0;34m=\u001b[0m \u001b[0mpickle\u001b[0m\u001b[0;34m.\u001b[0m\u001b[0mload\u001b[0m\u001b[0;34m(\u001b[0m\u001b[0mmodel_file\u001b[0m\u001b[0;34m)\u001b[0m  \u001b[0;31m# type: Optional[Any]\u001b[0m\u001b[0;34m\u001b[0m\u001b[0;34m\u001b[0m\u001b[0m\n\u001b[0m\u001b[1;32m    154\u001b[0m             \u001b[0;32mreturn\u001b[0m \u001b[0mfitted_model\u001b[0m\u001b[0;34m\u001b[0m\u001b[0;34m\u001b[0m\u001b[0m\n\u001b[1;32m    155\u001b[0m     \u001b[0;32mexcept\u001b[0m \u001b[0mImportError\u001b[0m \u001b[0;32mas\u001b[0m \u001b[0me\u001b[0m\u001b[0;34m:\u001b[0m\u001b[0;34m\u001b[0m\u001b[0;34m\u001b[0m\u001b[0m\n",
            "\u001b[0;32m/anaconda/envs/azureml_py36/lib/python3.6/site-packages/azureml/automl/runtime/_ml_engine/__init__.py\u001b[0m in \u001b[0;36m<module>\u001b[0;34m\u001b[0m\n\u001b[1;32m      4\u001b[0m \u001b[0;34m\"\"\"Classes and methods for MLEngine.\"\"\"\u001b[0m\u001b[0;34m\u001b[0m\u001b[0;34m\u001b[0m\u001b[0m\n\u001b[1;32m      5\u001b[0m \u001b[0;34m\u001b[0m\u001b[0m\n\u001b[0;32m----> 6\u001b[0;31m \u001b[0;32mfrom\u001b[0m \u001b[0;34m.\u001b[0m\u001b[0mml_engine\u001b[0m \u001b[0;32mimport\u001b[0m \u001b[0mvalidate\u001b[0m\u001b[0;34m,\u001b[0m \u001b[0mfeaturize\u001b[0m\u001b[0;34m,\u001b[0m \u001b[0mtrain\u001b[0m\u001b[0;34m,\u001b[0m \u001b[0mevaluate_classifier\u001b[0m\u001b[0;34m\u001b[0m\u001b[0;34m\u001b[0m\u001b[0m\n\u001b[0m\u001b[1;32m      7\u001b[0m \u001b[0;34m\u001b[0m\u001b[0m\n\u001b[1;32m      8\u001b[0m \u001b[0;32mfrom\u001b[0m \u001b[0;34m.\u001b[0m\u001b[0mfeaturizer_suggestion\u001b[0m \u001b[0;32mimport\u001b[0m \u001b[0msuggest_featurizers\u001b[0m\u001b[0;34m\u001b[0m\u001b[0;34m\u001b[0m\u001b[0m\n",
            "\u001b[0;32m/anaconda/envs/azureml_py36/lib/python3.6/site-packages/azureml/automl/runtime/_ml_engine/ml_engine.py\u001b[0m in \u001b[0;36m<module>\u001b[0;34m\u001b[0m\n\u001b[1;32m     47\u001b[0m \u001b[0;32mfrom\u001b[0m \u001b[0mazureml\u001b[0m\u001b[0;34m.\u001b[0m\u001b[0mautoml\u001b[0m\u001b[0;34m.\u001b[0m\u001b[0mcore\u001b[0m\u001b[0;34m.\u001b[0m\u001b[0mautoml_base_settings\u001b[0m \u001b[0;32mimport\u001b[0m \u001b[0mAutoMLBaseSettings\u001b[0m\u001b[0;34m\u001b[0m\u001b[0;34m\u001b[0m\u001b[0m\n\u001b[1;32m     48\u001b[0m \u001b[0;32mfrom\u001b[0m \u001b[0mazureml\u001b[0m\u001b[0;34m.\u001b[0m\u001b[0mautoml\u001b[0m\u001b[0;34m.\u001b[0m\u001b[0mruntime\u001b[0m\u001b[0;34m.\u001b[0m\u001b[0m_data_definition\u001b[0m \u001b[0;32mimport\u001b[0m \u001b[0mRawExperimentData\u001b[0m\u001b[0;34m\u001b[0m\u001b[0;34m\u001b[0m\u001b[0m\n\u001b[0;32m---> 49\u001b[0;31m \u001b[0;32mfrom\u001b[0m \u001b[0mazureml\u001b[0m\u001b[0;34m.\u001b[0m\u001b[0mautoml\u001b[0m\u001b[0;34m.\u001b[0m\u001b[0mruntime\u001b[0m\u001b[0;34m.\u001b[0m\u001b[0m_ml_engine\u001b[0m\u001b[0;34m.\u001b[0m\u001b[0mvalidation\u001b[0m \u001b[0;32mimport\u001b[0m \u001b[0mRawExperimentDataValidator\u001b[0m\u001b[0;34m\u001b[0m\u001b[0;34m\u001b[0m\u001b[0m\n\u001b[0m\u001b[1;32m     50\u001b[0m \u001b[0;32mfrom\u001b[0m \u001b[0mazureml\u001b[0m\u001b[0;34m.\u001b[0m\u001b[0mautoml\u001b[0m\u001b[0;34m.\u001b[0m\u001b[0mruntime\u001b[0m\u001b[0;34m.\u001b[0m\u001b[0mfeaturization\u001b[0m \u001b[0;32mimport\u001b[0m \u001b[0mAutoMLTransformer\u001b[0m\u001b[0;34m\u001b[0m\u001b[0;34m\u001b[0m\u001b[0m\n\u001b[1;32m     51\u001b[0m \u001b[0;32mfrom\u001b[0m \u001b[0mazureml\u001b[0m\u001b[0;34m.\u001b[0m\u001b[0mautoml\u001b[0m\u001b[0;34m.\u001b[0m\u001b[0mruntime\u001b[0m\u001b[0;34m.\u001b[0m\u001b[0mshared\u001b[0m\u001b[0;34m.\u001b[0m\u001b[0mtypes\u001b[0m \u001b[0;32mimport\u001b[0m \u001b[0mDataInputType\u001b[0m\u001b[0;34m\u001b[0m\u001b[0;34m\u001b[0m\u001b[0m\n",
            "\u001b[0;32m/anaconda/envs/azureml_py36/lib/python3.6/site-packages/azureml/automl/runtime/_ml_engine/validation/__init__.py\u001b[0m in \u001b[0;36m<module>\u001b[0;34m\u001b[0m\n\u001b[1;32m      5\u001b[0m \u001b[0;31m# Module containing all common interfaces related to data validations.\u001b[0m\u001b[0;34m\u001b[0m\u001b[0;34m\u001b[0m\u001b[0;34m\u001b[0m\u001b[0m\n\u001b[1;32m      6\u001b[0m \u001b[0;32mfrom\u001b[0m \u001b[0;34m.\u001b[0m\u001b[0mvalidators\u001b[0m \u001b[0;32mimport\u001b[0m \u001b[0mAbstractRawExperimentDataValidator\u001b[0m\u001b[0;34m,\u001b[0m \u001b[0mAbstractTabularDataValidator\u001b[0m\u001b[0;34m\u001b[0m\u001b[0;34m\u001b[0m\u001b[0m\n\u001b[0;32m----> 7\u001b[0;31m \u001b[0;32mfrom\u001b[0m \u001b[0;34m.\u001b[0m\u001b[0mmaterialized_tabular_data_validator\u001b[0m \u001b[0;32mimport\u001b[0m \u001b[0mMaterializedTabularDataValidator\u001b[0m\u001b[0;34m\u001b[0m\u001b[0;34m\u001b[0m\u001b[0m\n\u001b[0m\u001b[1;32m      8\u001b[0m \u001b[0;32mfrom\u001b[0m \u001b[0;34m.\u001b[0m\u001b[0mraw_experiment_data_validator\u001b[0m \u001b[0;32mimport\u001b[0m \u001b[0mRawExperimentDataValidator\u001b[0m\u001b[0;34m\u001b[0m\u001b[0;34m\u001b[0m\u001b[0m\n",
            "\u001b[0;32m/anaconda/envs/azureml_py36/lib/python3.6/site-packages/azureml/automl/runtime/_ml_engine/validation/materialized_tabular_data_validator.py\u001b[0m in \u001b[0;36m<module>\u001b[0;34m\u001b[0m\n\u001b[1;32m     24\u001b[0m \u001b[0;32mfrom\u001b[0m \u001b[0mazureml\u001b[0m\u001b[0;34m.\u001b[0m\u001b[0mautoml\u001b[0m\u001b[0;34m.\u001b[0m\u001b[0mruntime\u001b[0m \u001b[0;32mimport\u001b[0m \u001b[0m_common_training_utilities\u001b[0m\u001b[0;34m\u001b[0m\u001b[0;34m\u001b[0m\u001b[0m\n\u001b[1;32m     25\u001b[0m \u001b[0;32mfrom\u001b[0m \u001b[0mazureml\u001b[0m\u001b[0;34m.\u001b[0m\u001b[0mautoml\u001b[0m\u001b[0;34m.\u001b[0m\u001b[0mruntime\u001b[0m\u001b[0;34m.\u001b[0m\u001b[0m_data_definition\u001b[0m \u001b[0;32mimport\u001b[0m \u001b[0mMaterializedTabularData\u001b[0m\u001b[0;34m\u001b[0m\u001b[0;34m\u001b[0m\u001b[0m\n\u001b[0;32m---> 26\u001b[0;31m \u001b[0;32mfrom\u001b[0m \u001b[0mazureml\u001b[0m\u001b[0;34m.\u001b[0m\u001b[0mautoml\u001b[0m\u001b[0;34m.\u001b[0m\u001b[0mruntime\u001b[0m\u001b[0;34m.\u001b[0m\u001b[0m_ml_engine\u001b[0m\u001b[0;34m.\u001b[0m\u001b[0mvalidation\u001b[0m \u001b[0;32mimport\u001b[0m \u001b[0mcommon_data_validations\u001b[0m\u001b[0;34m\u001b[0m\u001b[0;34m\u001b[0m\u001b[0m\n\u001b[0m\u001b[1;32m     27\u001b[0m \u001b[0;32mfrom\u001b[0m \u001b[0mazureml\u001b[0m\u001b[0;34m.\u001b[0m\u001b[0mautoml\u001b[0m\u001b[0;34m.\u001b[0m\u001b[0mruntime\u001b[0m\u001b[0;34m.\u001b[0m\u001b[0m_ml_engine\u001b[0m\u001b[0;34m.\u001b[0m\u001b[0mvalidation\u001b[0m\u001b[0;34m.\u001b[0m\u001b[0mvalidators\u001b[0m \u001b[0;32mimport\u001b[0m \u001b[0mAbstractTabularDataValidator\u001b[0m\u001b[0;34m\u001b[0m\u001b[0;34m\u001b[0m\u001b[0m\n\u001b[1;32m     28\u001b[0m \u001b[0;32mfrom\u001b[0m \u001b[0mazureml\u001b[0m\u001b[0;34m.\u001b[0m\u001b[0mautoml\u001b[0m\u001b[0;34m.\u001b[0m\u001b[0mruntime\u001b[0m\u001b[0;34m.\u001b[0m\u001b[0mshared\u001b[0m \u001b[0;32mimport\u001b[0m \u001b[0mutilities\u001b[0m \u001b[0;32mas\u001b[0m \u001b[0mruntime_utilities\u001b[0m\u001b[0;34m\u001b[0m\u001b[0;34m\u001b[0m\u001b[0m\n",
            "\u001b[0;32m/anaconda/envs/azureml_py36/lib/python3.6/site-packages/azureml/automl/runtime/_ml_engine/validation/common_data_validations.py\u001b[0m in \u001b[0;36m<module>\u001b[0;34m\u001b[0m\n\u001b[1;32m     17\u001b[0m \u001b[0;32mfrom\u001b[0m \u001b[0mazureml\u001b[0m\u001b[0;34m.\u001b[0m\u001b[0mautoml\u001b[0m\u001b[0;34m.\u001b[0m\u001b[0mcore\u001b[0m\u001b[0;34m.\u001b[0m\u001b[0mfeaturization\u001b[0m \u001b[0;32mimport\u001b[0m \u001b[0mFeaturizationConfig\u001b[0m\u001b[0;34m\u001b[0m\u001b[0;34m\u001b[0m\u001b[0m\n\u001b[1;32m     18\u001b[0m \u001b[0;32mfrom\u001b[0m \u001b[0mazureml\u001b[0m\u001b[0;34m.\u001b[0m\u001b[0mautoml\u001b[0m\u001b[0;34m.\u001b[0m\u001b[0mcore\u001b[0m\u001b[0;34m.\u001b[0m\u001b[0mshared\u001b[0m \u001b[0;32mimport\u001b[0m \u001b[0mconstants\u001b[0m\u001b[0;34m,\u001b[0m \u001b[0mutilities\u001b[0m\u001b[0;34m\u001b[0m\u001b[0;34m\u001b[0m\u001b[0m\n\u001b[0;32m---> 19\u001b[0;31m from azureml.automl.core.shared._diagnostics.automl_error_definitions import (\n\u001b[0m\u001b[1;32m     20\u001b[0m     \u001b[0mDatasetContainsInf\u001b[0m\u001b[0;34m,\u001b[0m \u001b[0mDataShapeMismatch\u001b[0m\u001b[0;34m,\u001b[0m \u001b[0mExperimentTimeoutForDataSize\u001b[0m\u001b[0;34m,\u001b[0m \u001b[0mFeaturizationConfigColumnMissing\u001b[0m\u001b[0;34m,\u001b[0m\u001b[0;34m\u001b[0m\u001b[0;34m\u001b[0m\u001b[0m\n\u001b[1;32m     21\u001b[0m     \u001b[0mInvalidMetricForSingleValuedColumn\u001b[0m\u001b[0;34m,\u001b[0m \u001b[0mInvalidValuesInData\u001b[0m\u001b[0;34m,\u001b[0m \u001b[0mSampleCountMismatch\u001b[0m\u001b[0;34m,\u001b[0m \u001b[0mUnhashableValueInColumn\u001b[0m\u001b[0;34m,\u001b[0m\u001b[0;34m\u001b[0m\u001b[0;34m\u001b[0m\u001b[0m\n",
            "\u001b[0;31mImportError\u001b[0m: cannot import name 'UnhashableValueInColumn'"
          ]
        }
      ],
      "execution_count": 34,
      "metadata": {
        "collapsed": true,
        "jupyter": {
          "source_hidden": false,
          "outputs_hidden": false
        },
        "nteract": {
          "transient": {
            "deleting": false
          }
        }
      }
    },
    {
      "cell_type": "markdown",
      "source": [
        "Unfortuantely I didnt manage to get the package running. I have tried to install 1.20 version in different combinations, but it didn't work. At the same time, all working models can be downloaded from the Models Tab, and later run via any ML framework, the model files will be attatched to the Git repo."
      ],
      "metadata": {
        "nteract": {
          "transient": {
            "deleting": false
          }
        }
      }
    },
    {
      "cell_type": "code",
      "source": [],
      "outputs": [],
      "execution_count": null,
      "metadata": {
        "collapsed": true,
        "jupyter": {
          "source_hidden": false,
          "outputs_hidden": false
        },
        "nteract": {
          "transient": {
            "deleting": false
          }
        }
      }
    }
  ],
  "metadata": {
    "kernelspec": {
      "name": "python3-azureml",
      "language": "python",
      "display_name": "Python 3.6 - AzureML"
    },
    "language_info": {
      "name": "python",
      "version": "3.6.9",
      "mimetype": "text/x-python",
      "codemirror_mode": {
        "name": "ipython",
        "version": 3
      },
      "pygments_lexer": "ipython3",
      "nbconvert_exporter": "python",
      "file_extension": ".py"
    },
    "nteract": {
      "version": "nteract-front-end@1.0.0"
    },
    "kernel_info": {
      "name": "python3-azureml"
    }
  },
  "nbformat": 4,
  "nbformat_minor": 2
}